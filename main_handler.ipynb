{
 "cells": [
  {
   "cell_type": "code",
   "execution_count": 38,
   "metadata": {},
   "outputs": [],
   "source": [
    "from transformers import PegasusTokenizer , PegasusForConditionalGeneration\n",
    "from bs4 import BeautifulSoup\n",
    "import requests\n"
   ]
  },
  {
   "cell_type": "code",
   "execution_count": 39,
   "metadata": {},
   "outputs": [],
   "source": [
    "model_name = \"human-centered-summarization/financial-summarization-pegasus\"\n",
    "# convert word into unique identify -> translator (encode , decode) -> translate every words that model can work with\n",
    "tokenizer = PegasusTokenizer.from_pretrained(model_name)\n",
    "# loading models \n",
    "model = PegasusForConditionalGeneration.from_pretrained(model_name)\n"
   ]
  },
  {
   "cell_type": "markdown",
   "metadata": {},
   "source": [
    "### Summerize a single article"
   ]
  },
  {
   "cell_type": "code",
   "execution_count": 40,
   "metadata": {},
   "outputs": [],
   "source": [
    "url = \"https://www.marketwatch.com/story/nvidia-is-about-to-make-a-big-announcement-during-a-difficult-time-11663368850?siteid=yhoof2\"\n",
    "r = requests.get(url)\n",
    "soup = BeautifulSoup(r.text , 'html.parser')\n",
    "paragraphs = soup.find_all('p')\n",
    "\n"
   ]
  },
  {
   "cell_type": "code",
   "execution_count": 41,
   "metadata": {},
   "outputs": [
    {
     "data": {
      "text/plain": [
       "'Nvidia Corp. faces a much more troublesome environment from the last time it launched a new chip architecture as it approaches a new launch. Nvidia \\n        NVDA,\\n        +0.65%\\n       kicks off its fall GTC event on Monday, with Chief Executive Jensen Huang scheduled to deliver a keynote address Tuesday morning at 11 a.m. Eastern. At the same event in May 2020, Huang unveiled a new chip architecture in Ampere, and analyst expect he will use this year’s event to unveil the company’s next-generation chip architecture code-named “Lovelace,” after the 19th century English mathematician Ada Lovelace, generally considered to be the world’s first computer programmer for her work on Charles Babbage’s theoretical Analytical Engine.  Ahead of the event, though, Nvidia has landed in a tough sport, with pandemic-era demand plunging its stock price by half so far this year. The company recently took a $1.22 billion inventory charge\\xa0as it seeks to clear out old inventory prior to the launch. Read: Nvidia sales forecast falls about $1 billion short of expectations, stock falls Ampere was unveiled about two-months into the COVID-19 pandemic amid strong demand for gaming cards that sent the stock to a 122% gain in 2020, compared with a 51% gain on the PHLX Semiconductor Index \\n        SOX,\\n        -0.97%.\\n       Now, Nvidia is launching into an environment when gaming demand is falling during a consumer tech slump, and the stock has dropped 55% year to date, compared with a 35% decline on the SOX index.  Read:\\xa0Chip stocks could plunge another 25% as ‘we are entering the worst semiconductor downturn in a decade,’ analyst says It was that sharp decline in demand and supply-chain problems that helped propel the data-center to be Nvidia’s largest unit with a $3.81 billion quarterly revenue contribution, a gain of 61% year over year, versus a 33% fall in gaming sales to $2.04 billion from a year ago, according to the company’s most recent earnings report. Read: Nvidia’s big reset has analysts wondering whether company is now in the clear “Following the July quarter report and recent disclosures around China licensing restrictions for the latest AI compute platforms, sentiment around Nvidia was not surprisingly fairly cautious,”'"
      ]
     },
     "execution_count": 41,
     "metadata": {},
     "output_type": "execute_result"
    }
   ],
   "source": [
    "text = [paragraph.text for paragraph in paragraphs]\n",
    "# model has its limit 4 hundred words\n",
    "words = ' '.join(text).split(' ')[:400]\n",
    "article = ' '.join(words)\n",
    "article"
   ]
  },
  {
   "cell_type": "code",
   "execution_count": 42,
   "metadata": {},
   "outputs": [
    {
     "data": {
      "text/plain": [
       "'Analysts expect Huang to unveil ‘Lovelace,’ code-named after Lovelace. Company took a $1.22 billion inventory charge ahead of event'"
      ]
     },
     "execution_count": 42,
     "metadata": {},
     "output_type": "execute_result"
    }
   ],
   "source": [
    "# encode the article that model can work with it ( ecodeed set of input id)\n",
    "# specify [ return_tensor = 'pt' we use pytorch tensor (not python list) ]\n",
    "input_ids = tokenizer.encode(article , return_tensors = 'pt')\n",
    "# put the article is encoded and then model run and get putput [ max_length is summary length , beams_search algo , early_stop means model reach the certain level of accuracy for that sequence]\n",
    "output = model.generate(input_ids , max_length=55 , num_beams=5 , early_stopping=True)\n",
    "# decode the output and get summary , \n",
    "summary = tokenizer.decode(output[0], skip_special_tokens=True)\n",
    "\n",
    "summary"
   ]
  },
  {
   "cell_type": "markdown",
   "metadata": {},
   "source": [
    "### Building a News and Sentiment Pipeline (one method)"
   ]
  },
  {
   "cell_type": "code",
   "execution_count": 43,
   "metadata": {},
   "outputs": [],
   "source": [
    "monitored_tickers = ['GME', 'TSLA', 'BTC']"
   ]
  },
  {
   "cell_type": "code",
   "execution_count": 44,
   "metadata": {},
   "outputs": [
    {
     "name": "stdout",
     "output_type": "stream",
     "text": [
      "['https://finance.yahoo.com/quote/m/abf89155-f062-3f0d-b87a-4f9adb2ec4dc/is-gamestop-s-big-bet-on-nfts.html', 'https://finance.yahoo.com/quote/news/sports-media-platform-sobet-ventures-153500420.html', 'https://finance.yahoo.com/quote/news/atari-x-butcher-billy-collab-120000504.html', 'https://finance.yahoo.com/quote/m/6d3de288-250e-3372-bc5c-75c17349f527/what-is-a-short-squeeze-and.html', 'https://finance.yahoo.com/quote/news/ps5-game-flopped-hard-even-162400076.html', 'https://finance.yahoo.com/quote/m/abf89155-f062-3f0d-b87a-4f9adb2ec4dc/is-gamestop-s-big-bet-on-nfts.html', 'https://finance.yahoo.com/quote/video/yahoo-finance-uncut-brian-shannon-135044226.html', 'https://finance.yahoo.com/quotehttps://news.yahoo.com/finance-test-bys-025505954.html', 'https://finance.yahoo.com/quote/video/sec-claims-ethereum-could-trigger-140318719.html', 'https://finance.yahoo.com/quote/m/9dfaa4b2-dc7f-30dd-aaa2-439783561a0c/gamestop-cash-burn-lack-of.html', 'https://finance.yahoo.com/quote/m/82ad8523-8388-3a67-9e89-0abb116c795b/these-20-stocks-have-short.html', 'https://finance.yahoo.com/quote/news/amtd-digitals-stock-goes-parabolic-halted-for-volatility-161606848.html', 'https://finance.yahoo.com/quote/news/beware-gme-stock-still-long-153659747.html', 'https://finance.yahoo.com/quote/news/institutions-profited-gamestop-corp-nyse-120355358.html', 'https://finance.yahoo.com/quote/video/meme-stocks-last-6-days-152013451.html', 'https://finance.yahoo.com/quote/news/next-big-meme-stock-buy-153903120.html', 'https://finance.yahoo.com/quote/news/tesla-set-unveil-humanoid-robot-091744493.html', 'https://finance.yahoo.com/quote/news/everything-know-elon-musk-tesla-003232167.html', 'https://finance.yahoo.com/quote/m/dae499fd-91ca-3a90-927a-7a5ede94e5f1/tesla-share-price-recovery.html', 'https://finance.yahoo.com/quote/m/fc1e5f5e-c713-3627-956f-91ffefd0c435/elon-musk-is-enraged.html', 'https://finance.yahoo.com/quote/news/tesla-tsla-hurt-german-energy-153803781.html', 'https://finance.yahoo.com/quote/m/ec62b39c-b351-3c3b-841a-4a1115a04a61/xpeng%E2%80%99s-new-suv-is-here-to.html', 'https://finance.yahoo.com/quote/m/78c542c0-debd-32e3-8a47-defe82022a80/automotive-industry-news-.html', 'https://finance.yahoo.com/quote/news/low-cost-more-sustainable-battery-100000883.html', 'https://finance.yahoo.com/quote/m/e8ab6b8c-8c7f-337d-9a32-84660c766179/dow-jones-rises-ahead-of-fed.html', 'https://finance.yahoo.com/quote/news/jacob-rees-mogg-cut-business-063815570.html', 'https://finance.yahoo.com/quote/news/fed-sees-jobless-rate-hitting-182503803.html', 'https://finance.yahoo.com/quote/news/10-chinese-stocks-avoid-amid-131114302.html', 'https://finance.yahoo.com/quote/news/cathie-wood-buying-10-stocks-130421837.html', 'https://finance.yahoo.com/quote/news/cathie-wood-ark-etf-getting-120000268.html', 'https://finance.yahoo.com/quote/news/elon-musk-cathie-wood-call-162251279.html', 'https://finance.yahoo.com/quote/m/fdf04572-66f8-34fd-a32c-5ceff1622446/dow-jones-futures-rise-fed.html', 'https://finance.yahoo.com/quote/video/harder-more-expensive-financial-experts-011112914.html', 'https://finance.yahoo.com/quote/news/jacob-rees-mogg-cut-business-063815570.html', 'https://finance.yahoo.com/quote/news/market-wrap-bitcoin-sell-off-204607563.html', 'https://finance.yahoo.com/quote/news/bitcoin-approaches-support-zone-37k-181927258.html', 'https://finance.yahoo.com/quote/news/ethereums-first-mainnet-shadow-fork-151030692.html', 'https://finance.yahoo.com/quote/news/first-mover-americas-bitcoin-put-132550695.html', 'https://finance.yahoo.com/quote/news/first-mover-asia-hsbc-metaverse-231845781.html', 'https://finance.yahoo.com/quote/news/while-were-partying-studied-bitcoin-145000751.html', 'https://finance.yahoo.com/quote/news/bitcoin-2022-miami-mining-gets-133924181.html', 'https://finance.yahoo.com/quote/news/market-wrap-cryptos-waver-speculators-202327617.html', 'https://finance.yahoo.com/quote/news/greenidges-seneca-lake-crypto-project-034608445.html', 'https://finance.yahoo.com/quote/news/jack-mallers-strike-announces-shopify-210400933.html']\n"
     ]
    }
   ],
   "source": [
    "monitored_tickers = ['GME', 'TSLA', 'BTC']\n",
    "# monitored_tickers = ['GME']\n",
    "# https://finance.yahoo.com/quote/TLSA?p=TLSA&.tsrc=fin-srch\n",
    "yahoo_base = 'https://finance.yahoo.com/quote'\n",
    "# https://news.google.com/topstories?sa=t&hl=en-US&gl=US&ceid=US:en\n",
    "google_base = 'https://news.google.com/search?q=BTC&hl=en-US&gl=US&ceid=US%3Aen'\n",
    "\n",
    "# yahoo url \n",
    "yahoo_news = []\n",
    "for stock in monitored_tickers:\n",
    "    yahoo_stock_news = f'https://finance.yahoo.com/quote/{stock}?p={stock}&.tsrc=fin-srch'\n",
    "\n",
    "    r = requests.get(yahoo_stock_news)\n",
    "    soup = BeautifulSoup(r.text , 'html.parser')\n",
    "    for each in soup.findAll('li' , attrs={'class':'js-stream-content Pos(r)'}):\n",
    "        for element in each.findAll('a'): \n",
    "            new_url = yahoo_base+element.get('href')\n",
    "            yahoo_news.append(new_url)\n",
    "print((yahoo_news))\n",
    "\n",
    "\n",
    "\n",
    "    \n",
    "\n",
    "     \n",
    "    \n",
    "    \n",
    "    \n",
    "\n",
    "\n",
    "\n"
   ]
  },
  {
   "cell_type": "markdown",
   "metadata": {},
   "source": [
    "### Building a News and Sentiment Pipeline (one method)"
   ]
  },
  {
   "cell_type": "code",
   "execution_count": 45,
   "metadata": {},
   "outputs": [
    {
     "data": {
      "text/plain": [
       "{'GME': ['/?sa=X&ved=0ahUKEwjD8v6Cg6j6AhVlE6YKHdChDOQQOwgC',\n",
       "  '/search?q=yahoo+finance+GME&tbm=nws&ie=UTF-8&gbv=1&sei=biIsY8ODE-WmmAXQw7KgDg',\n",
       "  '/search?q=yahoo+finance+GME&ie=UTF-8&source=lnms&sa=X&ved=0ahUKEwjD8v6Cg6j6AhVlE6YKHdChDOQQ_AUIBSgA',\n",
       "  '/search?q=yahoo+finance+GME&ie=UTF-8&tbm=bks&source=lnms&sa=X&ved=0ahUKEwjD8v6Cg6j6AhVlE6YKHdChDOQQ_AUIBygC',\n",
       "  '/search?q=yahoo+finance+GME&ie=UTF-8&tbm=vid&source=lnms&sa=X&ved=0ahUKEwjD8v6Cg6j6AhVlE6YKHdChDOQQ_AUICCgD',\n",
       "  '/search?q=yahoo+finance+GME&ie=UTF-8&tbm=isch&source=lnms&sa=X&ved=0ahUKEwjD8v6Cg6j6AhVlE6YKHdChDOQQ_AUICSgE',\n",
       "  'https://maps.google.com/maps?q=yahoo+finance+GME&um=1&ie=UTF-8&sa=X&ved=0ahUKEwjD8v6Cg6j6AhVlE6YKHdChDOQQ_AUICigF',\n",
       "  '/search?q=yahoo+finance+GME&ie=UTF-8&tbm=shop&source=lnms&sa=X&ved=0ahUKEwjD8v6Cg6j6AhVlE6YKHdChDOQQ_AUICygG',\n",
       "  '/advanced_search',\n",
       "  '/search?q=yahoo+finance+GME&ie=UTF-8&tbm=nws&source=lnt&tbs=lr:lang_1zh-CN%7Clang_1zh-TW&lr=lang_zh-CN%7Clang_zh-TW&sa=X&ved=0ahUKEwjD8v6Cg6j6AhVlE6YKHdChDOQQpwUIDQ',\n",
       "  '/search?q=yahoo+finance+GME&ie=UTF-8&tbm=nws&source=lnt&tbs=lr:lang_1zh-TW&lr=lang_zh-TW&sa=X&ved=0ahUKEwjD8v6Cg6j6AhVlE6YKHdChDOQQpwUIDg',\n",
       "  '/search?q=yahoo+finance+GME&ie=UTF-8&tbm=nws&source=lnt&tbs=qdr:h&sa=X&ved=0ahUKEwjD8v6Cg6j6AhVlE6YKHdChDOQQpwUIEA',\n",
       "  '/search?q=yahoo+finance+GME&ie=UTF-8&tbm=nws&source=lnt&tbs=qdr:d&sa=X&ved=0ahUKEwjD8v6Cg6j6AhVlE6YKHdChDOQQpwUIEQ',\n",
       "  '/search?q=yahoo+finance+GME&ie=UTF-8&tbm=nws&source=lnt&tbs=qdr:w&sa=X&ved=0ahUKEwjD8v6Cg6j6AhVlE6YKHdChDOQQpwUIEg',\n",
       "  '/search?q=yahoo+finance+GME&ie=UTF-8&tbm=nws&source=lnt&tbs=qdr:m&sa=X&ved=0ahUKEwjD8v6Cg6j6AhVlE6YKHdChDOQQpwUIEw',\n",
       "  '/search?q=yahoo+finance+GME&ie=UTF-8&tbm=nws&source=lnt&tbs=qdr:y&sa=X&ved=0ahUKEwjD8v6Cg6j6AhVlE6YKHdChDOQQpwUIFA',\n",
       "  '/search?q=yahoo+finance+GME&ie=UTF-8&tbm=nws&source=lnt&tbs=ar:1&sa=X&ved=0ahUKEwjD8v6Cg6j6AhVlE6YKHdChDOQQpwUIFQ',\n",
       "  '/search?q=yahoo+finance+GME&ie=UTF-8&tbm=nws&source=lnt&tbs=sbd:1&sa=X&ved=0ahUKEwjD8v6Cg6j6AhVlE6YKHdChDOQQpwUIFw',\n",
       "  '/url?q=https://finance.yahoo.com/news/edited-transcript-gme-n-earnings-210000297.html&sa=U&ved=2ahUKEwjD8v6Cg6j6AhVlE6YKHdChDOQQxfQBegQIBRAC&usg=AOvVaw2Bflkfw2-5Ga_0oQ7rZGtZ',\n",
       "  '/url?q=https://finance.yahoo.com/news/reddit-wallstreetbets-buying-10-stocks-130212051.html&sa=U&ved=2ahUKEwjD8v6Cg6j6AhVlE6YKHdChDOQQxfQBegQICRAC&usg=AOvVaw1rx7ljFIhQWJIfiGqyV8PD',\n",
       "  '/url?q=https://finance.yahoo.com/news/gamestop-reports-second-quarter-fiscal-200500105.html&sa=U&ved=2ahUKEwjD8v6Cg6j6AhVlE6YKHdChDOQQxfQBegQIARAC&usg=AOvVaw29jTkUXuvzV79M96Yf2f-i',\n",
       "  '/url?q=https://finance.yahoo.com/news/beige-book-gamestop-nio-earnings-160557972.html&sa=U&ved=2ahUKEwjD8v6Cg6j6AhVlE6YKHdChDOQQxfQBegQICBAC&usg=AOvVaw2dMmonPvrmBol44EvIdojg',\n",
       "  '/url?q=https://finance.yahoo.com/news/top-stocks-moving-after-hours-peloton-bed-bath-beyond-and-more-221316288.html&sa=U&ved=2ahUKEwjD8v6Cg6j6AhVlE6YKHdChDOQQxfQBegQIBxAC&usg=AOvVaw3e8yvc4Ma6co_f1rcR4qKA',\n",
       "  '/url?q=https://finance.yahoo.com/news/gamestop-posts-mixed-results-announces-203252050.html&sa=U&ved=2ahUKEwjD8v6Cg6j6AhVlE6YKHdChDOQQxfQBegQIBBAC&usg=AOvVaw3ldxJ6ig1mZ-7OGvIsHPPq',\n",
       "  '/url?q=https://finance.yahoo.com/news/the-actual-retail-price-of-stock-trades-with-zero-commission-211951461.html&sa=U&ved=2ahUKEwjD8v6Cg6j6AhVlE6YKHdChDOQQxfQBegQIAhAC&usg=AOvVaw3vvp7R9mwmCFKeoTyG27bh',\n",
       "  '/url?q=https://finance.yahoo.com/news/german-economy-minister-gas-levy-064436824.html&sa=U&ved=2ahUKEwjD8v6Cg6j6AhVlE6YKHdChDOQQxfQBegQIABAC&usg=AOvVaw2jyumlRxt6T7yALXJeuJq7',\n",
       "  '/url?q=https://ca.finance.yahoo.com/news/stock-market-news-live-updates-september-7-2022-110727390.html&sa=U&ved=2ahUKEwjD8v6Cg6j6AhVlE6YKHdChDOQQxfQBegQIBhAC&usg=AOvVaw25_ziDDtgomNU9uDnOqmTL',\n",
       "  '/url?q=https://finance.yahoo.com/news/morgan-stanley-expects-p-500-133500318.html&sa=U&ved=2ahUKEwjD8v6Cg6j6AhVlE6YKHdChDOQQxfQBegQIAxAC&usg=AOvVaw3ziCasIYJYw2rbNgtCAhbY',\n",
       "  '/search?q=yahoo+finance+GME&ie=UTF-8&tbm=nws&ei=biIsY8ODE-WmmAXQw7KgDg&start=10&sa=N',\n",
       "  '/url?q=https://support.google.com/websearch%3Fp%3Dws_settings_location%26hl%3Dzh-TW&sa=U&ved=0ahUKEwjD8v6Cg6j6AhVlE6YKHdChDOQQty4IVg&usg=AOvVaw044-1xi2_Xekg2cYZqy7bt',\n",
       "  '/url?q=https://accounts.google.com/ServiceLogin%3Fcontinue%3Dhttps://www.google.com/search%253Fq%253Dyahoo%252Bfinance%252BGME%2526tbm%253Dnws%26hl%3Dzh-TW&sa=U&ved=0ahUKEwjD8v6Cg6j6AhVlE6YKHdChDOQQxs8CCFc&usg=AOvVaw2mDOus4iVQGd6o-kASwrr2',\n",
       "  'https://www.google.com/preferences?hl=zh-TW&fg=1&sa=X&ved=0ahUKEwjD8v6Cg6j6AhVlE6YKHdChDOQQ5fUCCFg',\n",
       "  'https://policies.google.com/privacy?hl=zh-TW&fg=1',\n",
       "  'https://policies.google.com/terms?hl=zh-TW&fg=1'],\n",
       " 'TSLA': ['/?sa=X&ved=0ahUKEwi5ip6Dg6j6AhX9y4sBHQDRAckQOwgC',\n",
       "  '/search?q=yahoo+finance+TSLA&tbm=nws&ie=UTF-8&gbv=1&sei=biIsY7mbMv2Xr7wPgKKHyAw',\n",
       "  '/search?q=yahoo+finance+TSLA&ie=UTF-8&source=lnms&sa=X&ved=0ahUKEwi5ip6Dg6j6AhX9y4sBHQDRAckQ_AUIBSgA',\n",
       "  '/search?q=yahoo+finance+TSLA&ie=UTF-8&tbm=bks&source=lnms&sa=X&ved=0ahUKEwi5ip6Dg6j6AhX9y4sBHQDRAckQ_AUIBygC',\n",
       "  '/search?q=yahoo+finance+TSLA&ie=UTF-8&tbm=vid&source=lnms&sa=X&ved=0ahUKEwi5ip6Dg6j6AhX9y4sBHQDRAckQ_AUICCgD',\n",
       "  '/search?q=yahoo+finance+TSLA&ie=UTF-8&tbm=isch&source=lnms&sa=X&ved=0ahUKEwi5ip6Dg6j6AhX9y4sBHQDRAckQ_AUICSgE',\n",
       "  'https://maps.google.com/maps?q=yahoo+finance+TSLA&um=1&ie=UTF-8&sa=X&ved=0ahUKEwi5ip6Dg6j6AhX9y4sBHQDRAckQ_AUICigF',\n",
       "  '/search?q=yahoo+finance+TSLA&ie=UTF-8&tbm=shop&source=lnms&sa=X&ved=0ahUKEwi5ip6Dg6j6AhX9y4sBHQDRAckQ_AUICygG',\n",
       "  '/advanced_search',\n",
       "  '/search?q=yahoo+finance+TSLA&ie=UTF-8&tbm=nws&source=lnt&tbs=lr:lang_1zh-CN%7Clang_1zh-TW&lr=lang_zh-CN%7Clang_zh-TW&sa=X&ved=0ahUKEwi5ip6Dg6j6AhX9y4sBHQDRAckQpwUIDQ',\n",
       "  '/search?q=yahoo+finance+TSLA&ie=UTF-8&tbm=nws&source=lnt&tbs=lr:lang_1zh-TW&lr=lang_zh-TW&sa=X&ved=0ahUKEwi5ip6Dg6j6AhX9y4sBHQDRAckQpwUIDg',\n",
       "  '/search?q=yahoo+finance+TSLA&ie=UTF-8&tbm=nws&source=lnt&tbs=qdr:h&sa=X&ved=0ahUKEwi5ip6Dg6j6AhX9y4sBHQDRAckQpwUIEA',\n",
       "  '/search?q=yahoo+finance+TSLA&ie=UTF-8&tbm=nws&source=lnt&tbs=qdr:d&sa=X&ved=0ahUKEwi5ip6Dg6j6AhX9y4sBHQDRAckQpwUIEQ',\n",
       "  '/search?q=yahoo+finance+TSLA&ie=UTF-8&tbm=nws&source=lnt&tbs=qdr:w&sa=X&ved=0ahUKEwi5ip6Dg6j6AhX9y4sBHQDRAckQpwUIEg',\n",
       "  '/search?q=yahoo+finance+TSLA&ie=UTF-8&tbm=nws&source=lnt&tbs=qdr:m&sa=X&ved=0ahUKEwi5ip6Dg6j6AhX9y4sBHQDRAckQpwUIEw',\n",
       "  '/search?q=yahoo+finance+TSLA&ie=UTF-8&tbm=nws&source=lnt&tbs=qdr:y&sa=X&ved=0ahUKEwi5ip6Dg6j6AhX9y4sBHQDRAckQpwUIFA',\n",
       "  '/search?q=yahoo+finance+TSLA&ie=UTF-8&tbm=nws&source=lnt&tbs=ar:1&sa=X&ved=0ahUKEwi5ip6Dg6j6AhX9y4sBHQDRAckQpwUIFQ',\n",
       "  '/search?q=yahoo+finance+TSLA&ie=UTF-8&tbm=nws&source=lnt&tbs=sbd:1&sa=X&ved=0ahUKEwi5ip6Dg6j6AhX9y4sBHQDRAckQpwUIFw',\n",
       "  '/url?q=https://finance.yahoo.com/news/tesla-tsla-hurt-german-energy-153803781.html&sa=U&ved=2ahUKEwi5ip6Dg6j6AhX9y4sBHQDRAckQxfQBegQIBBAC&usg=AOvVaw2o8AkOgel_PwORMvXr3AAM',\n",
       "  '/url?q=https://hk.finance.yahoo.com/news/%25E9%25A6%25AC%25E6%2596%25AF%25E5%2585%258B%25E6%2595%2599-%25E9%259F%2593%25E5%259C%258B%25E6%2595%25A3%25E6%2588%25B6%25E7%2596%25AB%25E6%2583%2585%25E4%25B8%258Ball-in%25E7%2589%25B9%25E6%2596%25AF%25E6%258B%2589%25E8%2582%25A1%25E7%25A5%25A8-%25E6%258C%2581%25E8%25B2%25A8%25E9%2587%258F%25E5%25A2%259E%25E9%2580%25BE%25E7%2599%25BE%25E5%2580%258D%25E8%2587%25B31-6-010016053.html&sa=U&ved=2ahUKEwi5ip6Dg6j6AhX9y4sBHQDRAckQxfQBegQICRAC&usg=AOvVaw21oLtLIdX3B-y6pz4DGfUU',\n",
       "  '/url?q=https://finance.yahoo.com/news/elon-musk-faces-skeptics-tesla-100937921.html&sa=U&ved=2ahUKEwi5ip6Dg6j6AhX9y4sBHQDRAckQxfQBegQIBRAC&usg=AOvVaw2BkhciqkMWuAVH7vFn75Zg',\n",
       "  '/url?q=https://ca.finance.yahoo.com/news/pg-e-says-tesla-battery-212521772.html&sa=U&ved=2ahUKEwi5ip6Dg6j6AhX9y4sBHQDRAckQxfQBegQICBAC&usg=AOvVaw2uU3vvmshZGYYiehy4Ot3v',\n",
       "  '/url?q=https://finance.yahoo.com/news/why-a-tesla-exec-is-predicting-a-bright-future-for-the-ev-maker-165945946.html&sa=U&ved=2ahUKEwi5ip6Dg6j6AhX9y4sBHQDRAckQxfQBegQIARAC&usg=AOvVaw3Pc650Ul26l16SvrA9xAHw',\n",
       "  '/url?q=https://finance.yahoo.com/news/used-teslas-autopilot-first-time-200001766.html&sa=U&ved=2ahUKEwi5ip6Dg6j6AhX9y4sBHQDRAckQxfQBegQIBhAC&usg=AOvVaw1veLllFHOxZFChHN966bIc',\n",
       "  '/url?q=https://finance.yahoo.com/news/drove-tesla-first-time-testing-115500801.html&sa=U&ved=2ahUKEwi5ip6Dg6j6AhX9y4sBHQDRAckQxfQBegQIABAC&usg=AOvVaw02E4IAeRGR7xacHIl3fhzI',\n",
       "  '/url?q=https://ca.finance.yahoo.com/news/tesla-stock-2023-pivotal-year-deutsche-bank-175845421.html&sa=U&ved=2ahUKEwi5ip6Dg6j6AhX9y4sBHQDRAckQxfQBegQIAhAC&usg=AOvVaw1NsSPaNahUPwGgGQ1Zvm9E',\n",
       "  '/url?q=https://finance.yahoo.com/news/tesla-crushing-competition-electric-car-103027954.html&sa=U&ved=2ahUKEwi5ip6Dg6j6AhX9y4sBHQDRAckQxfQBegQIBxAC&usg=AOvVaw15NYiu5h8yp7bumDr98kmD',\n",
       "  '/url?q=https://finance.yahoo.com/news/zipline-lands-departing-verily-cfo-233243640.html&sa=U&ved=2ahUKEwi5ip6Dg6j6AhX9y4sBHQDRAckQxfQBegQIAxAC&usg=AOvVaw2ZCl6WiQw9zyCphXoMbrVv',\n",
       "  '/search?q=yahoo+finance+TSLA&ie=UTF-8&tbm=nws&ei=biIsY7mbMv2Xr7wPgKKHyAw&start=10&sa=N',\n",
       "  '/url?q=https://support.google.com/websearch%3Fp%3Dws_settings_location%26hl%3Dzh-TW&sa=U&ved=0ahUKEwi5ip6Dg6j6AhX9y4sBHQDRAckQty4IVg&usg=AOvVaw10AIIm1fmWNBTa73YYjtqW',\n",
       "  '/url?q=https://accounts.google.com/ServiceLogin%3Fcontinue%3Dhttps://www.google.com/search%253Fq%253Dyahoo%252Bfinance%252BTSLA%2526tbm%253Dnws%26hl%3Dzh-TW&sa=U&ved=0ahUKEwi5ip6Dg6j6AhX9y4sBHQDRAckQxs8CCFc&usg=AOvVaw20XS2aQb74TXCLu0i5kDIg',\n",
       "  'https://www.google.com/preferences?hl=zh-TW&fg=1&sa=X&ved=0ahUKEwi5ip6Dg6j6AhX9y4sBHQDRAckQ5fUCCFg',\n",
       "  'https://policies.google.com/privacy?hl=zh-TW&fg=1',\n",
       "  'https://policies.google.com/terms?hl=zh-TW&fg=1'],\n",
       " 'BTC': ['/?sa=X&ved=0ahUKEwiUrsmDg6j6AhXUCKYKHeLPARoQOwgC',\n",
       "  '/search?q=yahoo+finance+BTC&tbm=nws&ie=UTF-8&gbv=1&sei=byIsY9S6INSRmAXin4fQAQ',\n",
       "  '/search?q=yahoo+finance+BTC&ie=UTF-8&source=lnms&sa=X&ved=0ahUKEwiUrsmDg6j6AhXUCKYKHeLPARoQ_AUIBSgA',\n",
       "  '/search?q=yahoo+finance+BTC&ie=UTF-8&tbm=isch&source=lnms&sa=X&ved=0ahUKEwiUrsmDg6j6AhXUCKYKHeLPARoQ_AUIBygC',\n",
       "  '/search?q=yahoo+finance+BTC&ie=UTF-8&tbm=shop&source=lnms&sa=X&ved=0ahUKEwiUrsmDg6j6AhXUCKYKHeLPARoQ_AUICCgD',\n",
       "  'https://maps.google.com/maps?q=yahoo+finance+BTC&um=1&ie=UTF-8&sa=X&ved=0ahUKEwiUrsmDg6j6AhXUCKYKHeLPARoQ_AUICSgE',\n",
       "  '/search?q=yahoo+finance+BTC&ie=UTF-8&tbm=vid&source=lnms&sa=X&ved=0ahUKEwiUrsmDg6j6AhXUCKYKHeLPARoQ_AUICigF',\n",
       "  '/search?q=yahoo+finance+BTC&ie=UTF-8&tbm=bks&source=lnms&sa=X&ved=0ahUKEwiUrsmDg6j6AhXUCKYKHeLPARoQ_AUICygG',\n",
       "  '/advanced_search',\n",
       "  '/search?q=yahoo+finance+BTC&ie=UTF-8&tbm=nws&source=lnt&tbs=lr:lang_1zh-CN%7Clang_1zh-TW&lr=lang_zh-CN%7Clang_zh-TW&sa=X&ved=0ahUKEwiUrsmDg6j6AhXUCKYKHeLPARoQpwUIDQ',\n",
       "  '/search?q=yahoo+finance+BTC&ie=UTF-8&tbm=nws&source=lnt&tbs=lr:lang_1zh-TW&lr=lang_zh-TW&sa=X&ved=0ahUKEwiUrsmDg6j6AhXUCKYKHeLPARoQpwUIDg',\n",
       "  '/search?q=yahoo+finance+BTC&ie=UTF-8&tbm=nws&source=lnt&tbs=qdr:h&sa=X&ved=0ahUKEwiUrsmDg6j6AhXUCKYKHeLPARoQpwUIEA',\n",
       "  '/search?q=yahoo+finance+BTC&ie=UTF-8&tbm=nws&source=lnt&tbs=qdr:d&sa=X&ved=0ahUKEwiUrsmDg6j6AhXUCKYKHeLPARoQpwUIEQ',\n",
       "  '/search?q=yahoo+finance+BTC&ie=UTF-8&tbm=nws&source=lnt&tbs=qdr:w&sa=X&ved=0ahUKEwiUrsmDg6j6AhXUCKYKHeLPARoQpwUIEg',\n",
       "  '/search?q=yahoo+finance+BTC&ie=UTF-8&tbm=nws&source=lnt&tbs=qdr:m&sa=X&ved=0ahUKEwiUrsmDg6j6AhXUCKYKHeLPARoQpwUIEw',\n",
       "  '/search?q=yahoo+finance+BTC&ie=UTF-8&tbm=nws&source=lnt&tbs=qdr:y&sa=X&ved=0ahUKEwiUrsmDg6j6AhXUCKYKHeLPARoQpwUIFA',\n",
       "  '/search?q=yahoo+finance+BTC&ie=UTF-8&tbm=nws&source=lnt&tbs=ar:1&sa=X&ved=0ahUKEwiUrsmDg6j6AhXUCKYKHeLPARoQpwUIFQ',\n",
       "  '/search?q=yahoo+finance+BTC&ie=UTF-8&tbm=nws&source=lnt&tbs=sbd:1&sa=X&ved=0ahUKEwiUrsmDg6j6AhXUCKYKHeLPARoQpwUIFw',\n",
       "  '/url?q=https://finance.yahoo.com/news/digihost-announces-y-y-54-100000825.html&sa=U&ved=2ahUKEwiUrsmDg6j6AhXUCKYKHeLPARoQxfQBegQIBhAC&usg=AOvVaw1ID9QMDaTg7xVhf_E6ZpO2',\n",
       "  '/url?q=https://finance.yahoo.com/news/bitcoin-gains-most-month-dollar-052617965.html&sa=U&ved=2ahUKEwiUrsmDg6j6AhXUCKYKHeLPARoQxfQBegQICRAC&usg=AOvVaw3IQHDlXViH6HcgEcQahoTM',\n",
       "  '/url?q=https://finance.yahoo.com/news/microstrategy-files-stock-offering-500m-213627430.html&sa=U&ved=2ahUKEwiUrsmDg6j6AhXUCKYKHeLPARoQxfQBegQIBxAC&usg=AOvVaw1sLpqVW5ov-UTBuDHxwso9',\n",
       "  '/url?q=https://au.finance.yahoo.com/news/amid-market-rout-crypto-miners-182042980.html&sa=U&ved=2ahUKEwiUrsmDg6j6AhXUCKYKHeLPARoQxfQBegQIARAC&usg=AOvVaw3yQBXeqZ5VePP-3z2e-8zw',\n",
       "  '/url?q=https://ca.finance.yahoo.com/news/bitcoin-quiet-buy-sell-2023-124500131.html&sa=U&ved=2ahUKEwiUrsmDg6j6AhXUCKYKHeLPARoQxfQBegQIABAC&usg=AOvVaw3hILkGodKhthYJg7T7E-_7',\n",
       "  '/url?q=https://uk.finance.yahoo.com/news/hacking-fake-volume-market-manipulation-133745433.html&sa=U&ved=2ahUKEwiUrsmDg6j6AhXUCKYKHeLPARoQxfQBegQICBAC&usg=AOvVaw2iXKsG5AHUD3BMxTFCFRkb',\n",
       "  '/url?q=https://finance.yahoo.com/news/bitcoin-etf-long-past-due-090000758.html&sa=U&ved=2ahUKEwiUrsmDg6j6AhXUCKYKHeLPARoQxfQBegQIBRAC&usg=AOvVaw3FKl86bU9bTswmDSRvQBE8',\n",
       "  '/url?q=https://finance.yahoo.com/news/marathon-digital-holdings-announces-bitcoin-200500923.html&sa=U&ved=2ahUKEwiUrsmDg6j6AhXUCKYKHeLPARoQxfQBegQIAhAC&usg=AOvVaw2A0tQJpdAhdpEHClDIGCFn',\n",
       "  '/url?q=https://finance.yahoo.com/news/stocks-on-the-move-after-hours-ford-cognex-and-more-213819463.html&sa=U&ved=2ahUKEwiUrsmDg6j6AhXUCKYKHeLPARoQxfQBegQIAxAC&usg=AOvVaw2YcQtvzk5iOZukuY1J83Fb',\n",
       "  '/url?q=https://finance.yahoo.com/news/steep-drop-bitcoin-ether-causes-084400581.html&sa=U&ved=2ahUKEwiUrsmDg6j6AhXUCKYKHeLPARoQxfQBegQIBBAC&usg=AOvVaw00L06m9cnvAQVN39wQngBJ',\n",
       "  '/search?q=yahoo+finance+BTC&ie=UTF-8&tbm=nws&ei=byIsY9S6INSRmAXin4fQAQ&start=10&sa=N',\n",
       "  '/url?q=https://support.google.com/websearch%3Fp%3Dws_settings_location%26hl%3Dzh-TW&sa=U&ved=0ahUKEwiUrsmDg6j6AhXUCKYKHeLPARoQty4IVg&usg=AOvVaw15jIgMbKUtlMi80VoBP6lv',\n",
       "  '/url?q=https://accounts.google.com/ServiceLogin%3Fcontinue%3Dhttps://www.google.com/search%253Fq%253Dyahoo%252Bfinance%252BBTC%2526tbm%253Dnws%26hl%3Dzh-TW&sa=U&ved=0ahUKEwiUrsmDg6j6AhXUCKYKHeLPARoQxs8CCFc&usg=AOvVaw1nnYFdwVuN8PxNeuaAN_cw',\n",
       "  'https://www.google.com/preferences?hl=zh-TW&fg=1&sa=X&ved=0ahUKEwiUrsmDg6j6AhXUCKYKHeLPARoQ5fUCCFg',\n",
       "  'https://policies.google.com/privacy?hl=zh-TW&fg=1',\n",
       "  'https://policies.google.com/terms?hl=zh-TW&fg=1']}"
      ]
     },
     "execution_count": 45,
     "metadata": {},
     "output_type": "execute_result"
    }
   ],
   "source": [
    "stored_financial_url = []\n",
    "def search_for_stock_news_urls(ticker):\n",
    "    search_url = \"https://www.google.com/search?q=yahoo+finance+{}&tbm=nws\".format(ticker)\n",
    "    r = requests.get(search_url)\n",
    "    soup = BeautifulSoup(r.text, 'html.parser')\n",
    "    atags = soup.find_all('a')\n",
    "    hrefs = [link['href'] for link in atags]\n",
    "    return hrefs \n",
    "\n",
    "raw_urls = {ticker:search_for_stock_news_urls(ticker) for ticker in monitored_tickers}\n",
    "raw_urls    \n",
    "\n",
    "\n",
    "\n"
   ]
  },
  {
   "cell_type": "markdown",
   "metadata": {},
   "source": [
    "### Strip of unwnated URLs"
   ]
  },
  {
   "cell_type": "code",
   "execution_count": 46,
   "metadata": {},
   "outputs": [
    {
     "data": {
      "text/plain": [
       "{'GME': ['https://finance.yahoo.com/news/edited-transcript-gme-n-earnings-210000297.html&sa=U&ved=2ahUKEwjD8v6Cg6j6AhVlE6YKHdChDOQQxfQBegQIBRAC&usg=AOvVaw2Bflkfw2-5Ga_0oQ7rZGtZ',\n",
       "  'https://finance.yahoo.com/news/reddit-wallstreetbets-buying-10-stocks-130212051.html&sa=U&ved=2ahUKEwjD8v6Cg6j6AhVlE6YKHdChDOQQxfQBegQICRAC&usg=AOvVaw1rx7ljFIhQWJIfiGqyV8PD',\n",
       "  'https://finance.yahoo.com/news/gamestop-reports-second-quarter-fiscal-200500105.html&sa=U&ved=2ahUKEwjD8v6Cg6j6AhVlE6YKHdChDOQQxfQBegQIARAC&usg=AOvVaw29jTkUXuvzV79M96Yf2f-i',\n",
       "  'https://finance.yahoo.com/news/beige-book-gamestop-nio-earnings-160557972.html&sa=U&ved=2ahUKEwjD8v6Cg6j6AhVlE6YKHdChDOQQxfQBegQICBAC&usg=AOvVaw2dMmonPvrmBol44EvIdojg',\n",
       "  'https://finance.yahoo.com/news/top-stocks-moving-after-hours-peloton-bed-bath-beyond-and-more-221316288.html&sa=U&ved=2ahUKEwjD8v6Cg6j6AhVlE6YKHdChDOQQxfQBegQIBxAC&usg=AOvVaw3e8yvc4Ma6co_f1rcR4qKA',\n",
       "  'https://finance.yahoo.com/news/gamestop-posts-mixed-results-announces-203252050.html&sa=U&ved=2ahUKEwjD8v6Cg6j6AhVlE6YKHdChDOQQxfQBegQIBBAC&usg=AOvVaw3ldxJ6ig1mZ-7OGvIsHPP',\n",
       "  'https://finance.yahoo.com/news/the-actual-retail-price-of-stock-trades-with-zero-commission-211951461.html&sa=U&ved=2ahUKEwjD8v6Cg6j6AhVlE6YKHdChDOQQxfQBegQIAhAC&usg=AOvVaw3vvp7R9mwmCFKeoTyG27bh',\n",
       "  'https://finance.yahoo.com/news/german-economy-minister-gas-levy-064436824.html&sa=U&ved=2ahUKEwjD8v6Cg6j6AhVlE6YKHdChDOQQxfQBegQIABAC&usg=AOvVaw2jyumlRxt6T7yALXJeuJq7',\n",
       "  'https://finance.yahoo.com/news/morgan-stanley-expects-p-500-133500318.html&sa=U&ved=2ahUKEwjD8v6Cg6j6AhVlE6YKHdChDOQQxfQBegQIAxAC&usg=AOvVaw3ziCasIYJYw2rbNgtCAhbY'],\n",
       " 'TSLA': ['https://finance.yahoo.com/news/tesla-tsla-hurt-german-energy-153803781.html&sa=U&ved=2ahUKEwi5ip6Dg6j6AhX9y4sBHQDRAckQxfQBegQIBBAC&usg=AOvVaw2o8AkOgel_PwORMvXr3AAM',\n",
       "  'https://finance.yahoo.com/news/elon-musk-faces-skeptics-tesla-100937921.html&sa=U&ved=2ahUKEwi5ip6Dg6j6AhX9y4sBHQDRAckQxfQBegQIBRAC&usg=AOvVaw2BkhciqkMWuAVH7vFn75Zg',\n",
       "  'https://finance.yahoo.com/news/why-a-tesla-exec-is-predicting-a-bright-future-for-the-ev-maker-165945946.html&sa=U&ved=2ahUKEwi5ip6Dg6j6AhX9y4sBHQDRAckQxfQBegQIARAC&usg=AOvVaw3Pc650Ul26l16SvrA9xAHw',\n",
       "  'https://finance.yahoo.com/news/used-teslas-autopilot-first-time-200001766.html&sa=U&ved=2ahUKEwi5ip6Dg6j6AhX9y4sBHQDRAckQxfQBegQIBhAC&usg=AOvVaw1veLllFHOxZFChHN966bIc',\n",
       "  'https://finance.yahoo.com/news/drove-tesla-first-time-testing-115500801.html&sa=U&ved=2ahUKEwi5ip6Dg6j6AhX9y4sBHQDRAckQxfQBegQIABAC&usg=AOvVaw02E4IAeRGR7xacHIl3fhzI',\n",
       "  'https://finance.yahoo.com/news/tesla-crushing-competition-electric-car-103027954.html&sa=U&ved=2ahUKEwi5ip6Dg6j6AhX9y4sBHQDRAckQxfQBegQIBxAC&usg=AOvVaw15NYiu5h8yp7bumDr98kmD',\n",
       "  'https://finance.yahoo.com/news/zipline-lands-departing-verily-cfo-233243640.html&sa=U&ved=2ahUKEwi5ip6Dg6j6AhX9y4sBHQDRAckQxfQBegQIAxAC&usg=AOvVaw2ZCl6WiQw9zyCphXoMbrVv'],\n",
       " 'BTC': ['https://finance.yahoo.com/news/digihost-announces-y-y-54-100000825.html&sa=U&ved=2ahUKEwiUrsmDg6j6AhXUCKYKHeLPARoQxfQBegQIBhAC&usg=AOvVaw1ID9QMDaTg7xVhf_E6ZpO2',\n",
       "  'https://finance.yahoo.com/news/bitcoin-gains-most-month-dollar-052617965.html&sa=U&ved=2ahUKEwiUrsmDg6j6AhXUCKYKHeLPARoQxfQBegQICRAC&usg=AOvVaw3IQHDlXViH6HcgEcQahoTM',\n",
       "  'https://finance.yahoo.com/news/microstrategy-files-stock-offering-500m-213627430.html&sa=U&ved=2ahUKEwiUrsmDg6j6AhXUCKYKHeLPARoQxfQBegQIBxAC&usg=AOvVaw1sLpqVW5ov-UTBuDHxwso9',\n",
       "  'https://finance.yahoo.com/news/bitcoin-etf-long-past-due-090000758.html&sa=U&ved=2ahUKEwiUrsmDg6j6AhXUCKYKHeLPARoQxfQBegQIBRAC&usg=AOvVaw3FKl86bU9bTswmDSRvQBE8',\n",
       "  'https://finance.yahoo.com/news/marathon-digital-holdings-announces-bitcoin-200500923.html&sa=U&ved=2ahUKEwiUrsmDg6j6AhXUCKYKHeLPARoQxfQBegQIAhAC&usg=AOvVaw2A0tQJpdAhdpEHClDIGCFn',\n",
       "  'https://finance.yahoo.com/news/stocks-on-the-move-after-hours-ford-cognex-and-more-213819463.html&sa=U&ved=2ahUKEwiUrsmDg6j6AhXUCKYKHeLPARoQxfQBegQIAxAC&usg=AOvVaw2YcQtvzk5iOZukuY1J83Fb',\n",
       "  'https://finance.yahoo.com/news/steep-drop-bitcoin-ether-causes-084400581.html&sa=U&ved=2ahUKEwiUrsmDg6j6AhXUCKYKHeLPARoQxfQBegQIBBAC&usg=AOvVaw00L06m9cnvAQVN39wQngBJ']}"
      ]
     },
     "execution_count": 46,
     "metadata": {},
     "output_type": "execute_result"
    }
   ],
   "source": [
    "# One way\n",
    "for key , value in raw_urls.items():\n",
    "    new_url_list = []\n",
    "    for url in value:\n",
    "        if 'https://finance.yahoo.com/' in url:\n",
    "            new_url_list.append(url.strip('/url?q='))\n",
    "    raw_urls[key] = new_url_list\n",
    "\n",
    "raw_urls"
   ]
  },
  {
   "cell_type": "code",
   "execution_count": 47,
   "metadata": {},
   "outputs": [
    {
     "data": {
      "text/plain": [
       "['https://finance.yahoo.com/news/the-actual-retail-price-of-stock-trades-with-zero-commission-211951461.html',\n",
       " 'https://finance.yahoo.com/news/beige-book-gamestop-nio-earnings-160557972.html',\n",
       " 'https://finance.yahoo.com/news/german-economy-minister-gas-levy-064436824.html',\n",
       " 'https://finance.yahoo.com/news/edited-transcript-gme-n-earnings-210000297.html',\n",
       " 'https://finance.yahoo.com/news/morgan-stanley-expects-p-500-133500318.html',\n",
       " 'https://finance.yahoo.com/news/gamestop-posts-mixed-results-announces-203252050.html',\n",
       " 'https://finance.yahoo.com/news/reddit-wallstreetbets-buying-10-stocks-130212051.html',\n",
       " 'https://finance.yahoo.com/news/top-stocks-moving-after-hours-peloton-bed-bath-beyond-and-more-221316288.html',\n",
       " 'https://finance.yahoo.com/news/gamestop-reports-second-quarter-fiscal-200500105.html']"
      ]
     },
     "execution_count": 47,
     "metadata": {},
     "output_type": "execute_result"
    }
   ],
   "source": [
    "# Using regex ( another way )\n",
    "import re\n",
    "\n",
    "exclude_list = ['maps', 'policies', 'preferences', 'accounts', 'support']\n",
    "\n",
    "def strip_unwanted_urls(urls, exclude_list):\n",
    "    val = []\n",
    "    for url in urls: \n",
    "        if 'https://' in url and not any(exclude_word in url for exclude_word in exclude_list):\n",
    "            res = re.findall(r'(https://\\S+)', url)[0].split('&')[0]\n",
    "            val.append(res)\n",
    "    return list(set(val))\n",
    "\n",
    "strip_unwanted_urls(raw_urls['GME'],exclude_list)\n"
   ]
  },
  {
   "cell_type": "code",
   "execution_count": 48,
   "metadata": {},
   "outputs": [
    {
     "data": {
      "text/plain": [
       "{'GME': ['https://finance.yahoo.com/news/the-actual-retail-price-of-stock-trades-with-zero-commission-211951461.html',\n",
       "  'https://finance.yahoo.com/news/beige-book-gamestop-nio-earnings-160557972.html',\n",
       "  'https://finance.yahoo.com/news/german-economy-minister-gas-levy-064436824.html',\n",
       "  'https://finance.yahoo.com/news/edited-transcript-gme-n-earnings-210000297.html',\n",
       "  'https://finance.yahoo.com/news/morgan-stanley-expects-p-500-133500318.html',\n",
       "  'https://finance.yahoo.com/news/gamestop-posts-mixed-results-announces-203252050.html',\n",
       "  'https://finance.yahoo.com/news/reddit-wallstreetbets-buying-10-stocks-130212051.html',\n",
       "  'https://finance.yahoo.com/news/top-stocks-moving-after-hours-peloton-bed-bath-beyond-and-more-221316288.html',\n",
       "  'https://finance.yahoo.com/news/gamestop-reports-second-quarter-fiscal-200500105.html'],\n",
       " 'TSLA': ['https://finance.yahoo.com/news/used-teslas-autopilot-first-time-200001766.html',\n",
       "  'https://finance.yahoo.com/news/zipline-lands-departing-verily-cfo-233243640.html',\n",
       "  'https://finance.yahoo.com/news/drove-tesla-first-time-testing-115500801.html',\n",
       "  'https://finance.yahoo.com/news/tesla-tsla-hurt-german-energy-153803781.html',\n",
       "  'https://finance.yahoo.com/news/elon-musk-faces-skeptics-tesla-100937921.html',\n",
       "  'https://finance.yahoo.com/news/tesla-crushing-competition-electric-car-103027954.html',\n",
       "  'https://finance.yahoo.com/news/why-a-tesla-exec-is-predicting-a-bright-future-for-the-ev-maker-165945946.html'],\n",
       " 'BTC': ['https://finance.yahoo.com/news/steep-drop-bitcoin-ether-causes-084400581.html',\n",
       "  'https://finance.yahoo.com/news/bitcoin-etf-long-past-due-090000758.html',\n",
       "  'https://finance.yahoo.com/news/marathon-digital-holdings-announces-bitcoin-200500923.html',\n",
       "  'https://finance.yahoo.com/news/bitcoin-gains-most-month-dollar-052617965.html',\n",
       "  'https://finance.yahoo.com/news/microstrategy-files-stock-offering-500m-213627430.html',\n",
       "  'https://finance.yahoo.com/news/stocks-on-the-move-after-hours-ford-cognex-and-more-213819463.html',\n",
       "  'https://finance.yahoo.com/news/digihost-announces-y-y-54-100000825.html']}"
      ]
     },
     "execution_count": 48,
     "metadata": {},
     "output_type": "execute_result"
    }
   ],
   "source": [
    "cleaned_urls = {tickers:strip_unwanted_urls(raw_urls[tickers] , exclude_list) for tickers in monitored_tickers}\n",
    "\n",
    "\n",
    "cleaned_urls"
   ]
  },
  {
   "cell_type": "markdown",
   "metadata": {},
   "source": [
    "### Search and Scrape Cleaned URLs (one-way)"
   ]
  },
  {
   "cell_type": "code",
   "execution_count": 49,
   "metadata": {},
   "outputs": [],
   "source": [
    "# dict \n",
    "article_dict = {}\n",
    "\n",
    "# 檢查是否有中文\n",
    "zhPattern = re.compile(u'[\\u4e00-\\u9fa5]+')    \n",
    "\n",
    "def scrape_all_text_oneway(dic):\n",
    "    for key , value in dic.items():\n",
    "        article_list = []\n",
    "        for url in value:\n",
    "            r = requests.get(url)\n",
    "            soup = BeautifulSoup(r.text , 'html.parser')\n",
    "            paragraphs = soup.find_all('p')\n",
    "            text = [paragraph.text for paragraph in paragraphs]\n",
    "            # model has its limit 4 hundred words\n",
    "            words = ' '.join(text).split(' ')[:400]\n",
    "            article = ' '.join(words)\n",
    "            # regex\n",
    "            match = zhPattern.search(article)\n",
    "            if not match:\n",
    "                article_list.append(article)\n",
    "\n",
    "        \n",
    "        article_dict[key] = article_list\n",
    "    \n",
    "            \n",
    "        # r = requests.get(value)\n",
    "        # soup = BeautifulSoup(r.text , 'html.parser')\n",
    "        # print(soup.text) \n",
    "\n",
    "\n",
    "scrape_all_text_oneway(cleaned_urls)\n",
    "\n"
   ]
  },
  {
   "cell_type": "markdown",
   "metadata": {},
   "source": [
    "### Search and Scrape Cleaned URLs ( another way )"
   ]
  },
  {
   "cell_type": "code",
   "execution_count": 50,
   "metadata": {},
   "outputs": [
    {
     "data": {
      "text/plain": [
       "{'GME': [\"No-fee trading has transformed the retail trading landscape, making it possible for everyday traders to participate in the markets. Payment For Order Flow (PFOF) — fees for trades paid to brokerages by market makers like Citadel and Virtu — have garnered increased attention since the GameStop (GME) saga grabbed national attention last year. A new study aimed at identifying variation in price execution across different brokers using six accounts found a large variation among platforms such as Robinhood (HOOD) and E-trade. “There's just a huge difference in execution between the six different brokers that we used,” said Christopher Schwarz, University of California Irvine professor of finance and faculty director of the Center for Investment and Wealth Management. “Essentially, what we found is the amount the broker is getting paid for the trades really had no relation to how much execution your — what price execution you were getting. And there's really no way for you to know ahead of time which broker was giving you the best price execution of these trades and which broker was giving you the worst execution,” said Schwarz. Although the study aims to look at the dynamics surrounding no-fee trading and PFOF, when asked, Schwarz mentioned the brokerage with the best outcome. “The best broker in terms of market trades only, looking at market trades only, was TD Ameritrade. They were number one,” said Schwarz. The professor's team found price execution data needs to be provided at the broker level. This way consumers can better compare brokerages. “In other words, what Citadel gives you is just an average of the price execution they'll give you on any Apple trade. And, essentially, what we found is the market centers are systematically giving brokers different pricing,” said Schwarz. To solve this, market makers should say “exactly what kind of pricing you get at TD versus Robinhood versus eTrade versus Fidelity. And then consumers have a much better way to make a comparison about what kind of price execution that they're getting,” he added. Ines is a markets reporter covering equities. Follow her on Twitter at @ines_ferre Click\",\n",
       "  \"By Liz Moyer Investing.com -- Stocks headed lower after the Labor Day weekend, as investors awaited more economic data and words from Federal Reserve officials this week. The market already started September off on a bad note on fears about an aggressive inflation-fighting campaign by the Fed that could tip the economy into a recession. A growing energy crisis in the European Union is adding to the jitters as Russia cut off the continent from a key natural gas pipeline with just weeks before the colder weather will set in. The Fed next meets later this month, but this week will feature speeches and public remarks from several officials including Jerome Powell himself, who is scheduled to speak Thursday morning. Though he's unlikely to play the Fed's hand, onlookers believe the Fed will continue on its path to raise rates another 0.75 percentage points. On Wednesday, the Fed releases the economic summaries from its district banks known as the Beige Book. Later this month comes inflation data that could factor into the Fed's decision. Here are three things that could affect markets tomorrow. 1. Beige Book This periodic report from the 12 Fed district banks paints a picture of what is happening in manufacturing, services and other business sectors and in consumer behavior. It's due out at 14:00 ET (18:00 GMT). 2. GameStop earnings Analysts expect meme stock and game retailer GameStop Corp (NYSE:GME) to report a loss per share of 42 cents on revenue of $1.27 billion. 3. Nio earnings Analysts expect Nio Inc (NYSE:NIO), the electric vehicle maker, to report a loss per share of $1.16 on revenue of $9.7 billion. Related Articles Beige Book, GameStop, Nio Earnings: 3 Things to Watch Bed Bath & Beyond names interim CFO after executive's death Pharmacy operators Walmart, Walgreens, Kroger begin opioid trial in New Mexico Related Quotes In this article, we discuss the 6 stocks that Warren Buffett is decreasing stakes in. If you want to read about some stocks in the Buffett portfolio, go directly to Warren Buffett is Decreasing Stakes in These 3 Stocks. Warren Buffett of Berkshire\",\n",
       "  \"BERLIN, Sept 21 (Reuters) - Germany will impose a gas levy on consumers as planned from October 1, the economy minister said on Wednesday. However, there will be an analysis of whether that levy is in accordance with German law after the nationalisation of gas importer Uniper, Robert Habeck told journalists, adding that this could take about three months. The levy was supposed to help gas importers to procure much more expensive replacements after the shortfall of Russian gas. (Reporting by Rachel More, Kirsti Knolle Editing by Paul Carrel) The ‘70s are coming back in a big way, and while that’s not so bad in fashion or in music, it’s safe to say that no one really wants that ‘70s economy back. That was the decade that brought stagflation, a nasty mix of high inflation, increasing unemployment, and stagnant job growth. Economists had long thought that combo impossible, but the economic mismanagement of the Carter Administration proved them wrong. At least one top economist, Mohamed El-Erian from Allianz, sees a stagflationary perio THE MONEYIST  Dear Quentin,\\xa0   I am a senior citizen and have suffered major losses to the tune of $100,000 in the recent stock market turmoil. Can I sue my financial adviser? I understand the dynamics of the market as far as its ups and downs, and have ridden them out before. Ignore Buffett's wisdom? Maybe just this once. (Bloomberg) -- Economist Nouriel Roubini, who correctly predicted the 2008 financial crisis, sees a “long and ugly” recession in the US and globally occurring at the end of 2022 that could last all of 2023 and a sharp correction in the S&P 500.Most Read from BloombergHome-Flipper Opendoor Hit With Losses in Echo of Zillow CollapseSouthwest Mexico Struck by 7.5 Magnitude Earthquake, Buildings Sway in CapitalTycoon's Wild $3 Billion Gamble on ‘China's LVMH’ CrashesMark Zuckerberg’s $71 Billion Wea Shares of hydrogen fuel-cell pioneer Plug Power (NASDAQ: PLUG) sold off in early Tuesday trading, falling 3.4% through 10:05 a.m. ET on news that a tiny rival may have a big advantage over the company.  As Reuters reported this\",\n",
       "  \"Q2 2022 GameStop Corp Earnings Call GRAPEVINE Sep 7, 2022 (Thomson StreetEvents) -- Edited Transcript of GameStop Corp earnings conference call or presentation Wednesday, September 7, 2022 at 9:00:00pm GMT TEXT version of Transcript ================================================================================ Corporate Participants ================================================================================ * Matthew Furlong GameStop Corp. - President, CEO & Director ================================================================================ Presentation -------------------------------------------------------------------------------- Operator [1] -------------------------------------------------------------------------------- Good afternoon, and welcome to the GameStop Second Quarter 2022 Earnings Conference Call. Please note that certain statements made during the call constitute forward-looking statements made pursuant to the safe harbor provisions of the Private Securities Litigation Act of 1995 as amended. Such forward-looking statements are subject to both known and unknown risks and uncertainties that could cause actual results to differ materially from such statements. These risks and uncertainties are described in the company's earnings press release and its filings with the SEC. The forward-looking statements today are made as of the date of this call, and the company does not undertake any obligation to update the forward-looking statements. I will now turn the call over to GameStop's CEO, Matt Furlong. -------------------------------------------------------------------------------- Matthew Furlong, GameStop Corp. - President, CEO & Director [2] -------------------------------------------------------------------------------- Thank you, and good afternoon, everyone. I want to begin by reiterating the deep appreciation we have for our stockholders' unrivaled enthusiasm, passion and support. As we work to transform GameStop, these remain unique tailwinds for us, ones we always recognize and value. I also want to take this opportunity to thank everyone across the organization for bringing continued focus and intensity to our mission, particularly during an active Q2 that represented a transitional quarter for us. Before covering the quarter's specific initiatives and results, I want to provide a high-level update on where we've been and where we're looking to go as our transformation progresses. When our Board began turning over early last year, GameStop was saddled with significant debt, decaying systems, limited employee depth and a host of other issues. This is why we spent the second half of 2021 and the first half of 2022 making up for years of underinvestment in modernizing the business. The upshot is we\",\n",
       "  \"If you think the stock market selloff has come to an end, Morgan Stanley has some bad news. The S&P 500 is already down 17% year to date, but the Wall Street juggernaut believes the market has yet to hit a bottom. “Our '22/'23/'24 base case estimates are now 3%/13%/14% below consensus, respectively,” a team of Morgan Stanley analysts led by Mike Wilson write in a recent note to investors. “In our base case, 2023 now marks a modest earnings contraction (-3% year-over-year growth), though we do not embed an economic recession in this scenario.” “While acknowledging the poor performance in equities year-to-date, we do not think the bear market is over if our earnings forecasts are correct.” The analysts expect the S&P 500 to fall to 3,400 by year-end. And if a recession hits the economy, they say the benchmark index could drop to 3,000. Considering that the S&P 500 sits at around 3,980 right now, Morgan Stanley’s projection implies a further downside of 15% to 25%. That doesn’t mean selling everything. The Wall Street firm still sees upside in quite a few companies. Here’s a look at three that it finds particularly attractive. 'Millions will be wiped out': Kiyosaki says the economy is in trouble. But now is also the perfect time to 'get richer' — here are the top 2 ways to do it You could be the landlord of Walmart, Whole Foods and Kroger (and collect fat grocery store-anchored income on a quarterly basis) What do Ashton Kutcher and a Nobel Prize-winning economist have in common? An investing app that turns spare change into a diversified portfolio This American pharmaceutical giant commands more than $290 billion in market cap, with products marketed in 120 countries around the world. Despite the market downturn this year, Eli Lilly is not a beaten-down stock. In the first six months of 2022, Eli Lilly’s revenue grew 6% year over year. Meanwhile, the company’s adjusted earnings per share improved 12% from a year ago. Shares are actually up roughly 15% so far in 2022, and Morgan Stanley expects the trend to\",\n",
       "  '(Bloomberg) -- GameStop Corp. shares were up on Thursday after the video game retailer announced a partnership with cryptocurrency exchange FTX US, suggesting the company is making strides in its strategy shift to nonfungible tokens. But analysts were still skeptical about the longterm growth prospects after the company reported a decline in sales and a wider loss in the second quarter. Most Read from Bloomberg US Inflation Tops Forecasts, Cementing Odds of Big Fed Hike Ugly Selloff Pushes Stocks Down Most Since 2020: Markets Wrap The World’s Hottest Housing Markets Are Facing a Painful Reset Hedge Fund’s Decade-Long Wait for Yuan Crash Nears Payday Ukrainian Successes Raise Russian Collapse to Realm of Possibility GameStop said Wednesday it will collaborate with FTX US, one of the biggest cryptocurrency exchanges, on new e-commerce and online marketing initiatives, and will begin carrying FTX gift cards in select stores. The financial terms of the partnership weren’t disclosed. GameStop shares, which are down 35% this year, rose about 7% in premarket trading. The agreement builds on GameStop’s earlier forays into NFTs, including the launch in June of a digital asset wallet to allow gamers to store, send and receive cryptocurrencies and NFTs. In July, the company rolled out an NFT marketplace to trade those assets, despite the fact that sales of such digital artworks have declined amid the crypto industry crash. The pivot to NFTs has yet to show up GameStop’s results. Net sales declined 4% to $1.14 billion in the fiscal second quarter, the company said in a statement, falling short of analysts’ estimates. The company’s net loss nearly doubled to $108.7 million. The bulk of GameStop’s business remains in a state of “extreme secular decline,” and investors shouldn’t fall for the company’s “endless series of gimmicky announcements,” analysts at Vital Knowledge wrote in a note to investors. Chairman Ryan Cohen has been pushing GameStop into crypto in an effort to turn around the fortunes of the beleaguered gaming company, which hasn’t seen a quarterly profit since the end of 2021. Cohen, who also founded pet e-commerce site Chewy Inc., has seized on gamers',\n",
       "  'In this article, we will look at the 10 stocks that Redditors of WallStreetBets are buying in September. If you want to explore more stocks that Redditors are bullish on in September, you can also take a look at Reddit\\'s WallStreetBets is Buying These 5 Stocks in September. WallStreetBets became popular after a group of retail investors waged war against elite hedge funds that were shorting the brick-and-mortar video game retailer, GameStop Corp. (NYSE:GME), and aggressively bought shares of the company which resulted in billions of losses for the short sellers. The GameStop (NYSE:GME) short squeeze was a historic event that had reverberations across the entire hedge fund industry. It was at this moment, that retail investors recognized their potential and realized that they too can make money in the stock market by learning about it. WallStreetBets has grown in popularity over the past year and as of September 11, 2022, the community has over 12.5 million members. WallStreetBets was founded by Jaime Rogozinski in 2012, an entrepreneur living in Mexico, who wanted to create a community of retail investors that can come together and discuss their trading strategies. Jaime Rogozinski was recently featured on Yahoo Finance, where he explained how WallStreetBets makes finance accessible for everyone, and how retail traders are leveraging the forum to educate themselves about the stock market. Here are some comments from the founder of WallStreetBets: \"One of the things about retail traders and WallStreetBets is that it\\'s a collective. It\\'s not an individual that says today we\\'re going to do this. The people come together and they collectively decide and they make efforts. It\\'s a democracy and sometimes people want to to go for one particular stock and it works and sometimes it doesn\\'t... I think that the younger generations, the retail generation, the millennials, the gen z\\'s, they\\'re very hands-on... It\\'s \"I\\'m going to do this myself. I\\'m going to figure out how to do this myself\" and so it\\'s only natural for them to also want to try and take control of their finances or learn about the the stock market on',\n",
       "  \"Bed Bath & Beyond (BBBY): Shares moved higher in after-hours trading, after surging nearly 25% on Monday, ahead of the retailer’s highly anticipated strategic update August 31. The Wall Street Journal reported last week that Bed Bath & Beyond is close to finalizing a loan of nearly $400 million as it seeks to boost liquidity. Shares of the meme stock have soared this month and on pace for a record monthly gain in August, with the stock rallying more than 170%. Bed Bath & Beyond’s gains lifted other meme favorites, including GameStop (GME) and AMC (AMC). Best Buy (BBY): Best Buy is in focus ahead of its quarterly results before the bell Tuesday. The company cut its full year profit and sales forecast in July, citing softening demand. Best Buy CEO Corie Barry wrote “as high inflation has continued and consumer sentiment has deteriorated, customer demand within the consumer electronics industry has softened even further, leading to Q2 financial results below the expectations we shared in May.” The retailer is expected to post adjusted earnings from continuing operations of $1.35 per share on revenue of $10.33 billion, according to Wall Street's consensus estimates compiled by Bloomberg. Baidu (BIDU): Baidu shares fell Monday ahead of the Chinese tech giant’s earnings Tuesday before the bell. Covid disruptions are expected to weigh on results, with the Street forecasting its first negative sales growth in two years. Daily active users for the quarter are estimated to total 228.4 million. Peloton (PTON): Peloton filed to delay its 10-K, saying it requires more time to complete accounting disclosures. According to the regulatory filing, Peloton needs additional time “to permit completion of the accounting and disclosures” related to its recent announcement to exit its last mile warehouses, “including management’s assessment of the effectiveness of internal controls over financial reporting as it relates to its accounts and disclosures related to these strategic business developments and for its registered public accounting firm, Ernst & Young LLP, to complete its necessary audit procedures over these matters,” according to the filing. Peloton shares have fallen -62% in the past six months.\",\n",
       "  'GRAPEVINE, Texas, September 07, 2022--(BUSINESS WIRE)--GameStop Corp. (NYSE: GME) (\"GameStop\" or the \"Company\") today released financial results for the second quarter ended July 30, 2022. The Company’s condensed and consolidated financial statements, including GAAP and non-GAAP results, are below. The Company’s Form 10-Q and supplemental information can be found at http://investor.GameStop.com. SECOND QUARTER OVERVIEW Net sales were $1.136 billion for the quarter, compared to $1.183 billion in the prior year’s second quarter. Sales attributable to collectibles, which is a segment the Company intends to grow over the long-term, were $223.2 million for the quarter, compared to $177.2 million in the prior year’s second quarter. Selling, general and administrative expenses were $387.5 million for the quarter, representing a sequential decline of 14.3% from the first quarter of 2022 and reflecting, in part, the Company’s focus on right-sizing costs following a period of significant investment in long-term initiatives. Inventory was $734.8 million at the close of the quarter, compared to $596.4 million at the close of the prior year’s second quarter, reflecting the Company’s focus on maintaining adequate in-stock levels to meet customer demand and offset lingering supply chain headwinds. Followed the launch of the Company\\'s digital wallet by launching the Company\\'s non-fungible token (\"NFT\") marketplace to allow gamers, creators, collectors and others to buy, sell and trade NFTs. Modernized and strengthened the Company’s systems through the implementation of SAP. Ended the period with cash and cash equivalents of $908.9 million as well as no debt other than a low-interest, unsecured term loan associated with the French government’s response to COVID-19. CONFERENCE CALL INFORMATION A webcast with management is scheduled for September 7, 2022, at 5:00 p.m. ET to discuss the Company’s quarter activities and financial results. This call, along with supplemental information, can also be accessed at http://investor.GameStop.com. The phone number for the investor conference call is 1-877-407-6169 and the confirmation code is 13732487. This webcast will be archived for two months on GameStop’s investor relations website. NON-GAAP MEASURES AND OTHER METRICS As a supplement to the Company’s financial results presented in accordance with U.S. generally accepted accounting principles (GAAP), GameStop'],\n",
       " 'TSLA': ['I tried Autopilot, Tesla\\'s advanced driver-assistance system, in the Model Y SUV. It steers automatically to follow curves in the road and keeps pace with traffic. It would be a welcome tool on long and boring highway drives. Elon Musk says it all the time: Tesla is as much a software company as it is an automaker. Whether you agree or not, there\\'s no doubt the company\\'s buzziest and most controversial piece of technology is Autopilot. Many Tesla owners swear by the semi-automated driving feature. At the same time, the federal government is investigating crashes where Autopilot-enabled cars collided with parked emergency vehicles. Some safety experts argue that the Autopilot moniker invites too much confidence in the system, given that it isn\\'t autonomous. Needless to say, I was eager to test out Autopilot for myself when reviewing a Tesla Model Y recently.   Autopilot, first released in 2014, is an advanced driver-assistance system that relies on a suite of cameras to \"see\" surrounding traffic and take over some driving tasks. Basically, it\\'s a smarter version of cruise control that adjusts speed in response to the vehicle ahead and steers to follow bends in the road. Musk has promised that self-driving Teslas are just around the corner for years, but that still hasn\\'t materialized. Autopilot (like other brands\\' similar features) ranks at a Level 2 on the widely accepted five levels of driving automation, meaning it requires full human supervision. In a Level 5 car, passengers would be able to nap while the vehicle does 100% of the work. Autopilot comes standard on all Teslas. It differs from the company\\'s pricier Enhanced Autopilot and Full Self-Driving features, which pile on extra capabilities but still don\\'t deliver full autonomy.   Autopilot performed impressively well over a couple of hours of driving on divided highways and some two-lane roads. Full disclosure: This brief test happened in daylight under ideal weather conditions. After depressing the right stalk twice, Autopilot activated instantly almost every time. Some other systems I\\'ve tried can take several seconds to lock into the lane lines. Braking or knocking',\n",
       "  \"Zipline has hired departing Verily CFO and Tesla veteran Deepak Ahuja as its first chief business and financial officer, an appointment that comes as the drone delivery and logistics startup accelerates its global expansion in Africa, the United States and other regions. Ahuja, who is leaving his post at Alphabet's unit Verily Life Sciences, will start in the new role September 30. (Verily, which said Friday it raised $1 billion, also announced Ahuja was leaving the company.) Ahuja will oversee Zipline's global financial operations such as finance, accounting, investor relations and global sales. The role will not include Africa, a region where Zipline got its start and continues to operate in Côte d'Ivoire, Ghana, Kenya, Nigeria and Rwanda. Daniel Marfo, who is based in Ghana and has been with Zipline since 2019, will continue to oversee existing operations in the region to maintain continuity there, according to the company. Marfo was promoted to senior vice president of Zipline's Africa operations in 2020. Zipline also operates in Japan and in the United States, including Arkansas and North Carolina. The company is expanding to Utah later this year through a partnership with Intermountain Health and announced plans to begin operations with Multicare Health System in Washington starting in 2024. Ahuja will focus on building Zipline's business in the United States and other regions globally, the company told TechCrunch. Ahuja comes to Zipline with decades in the financial world, most recently as CFO at Verily Life Sciences. Perhaps his most visible role was as Tesla's first CFO, a position he held from 2008 to 2015 and then again from 2017 to 2019. During his tenure at Tesla, Ahuja was at the helm when it became a publicly traded company and after years of losses eventually became profitable. His appointment signals Zipline's growing aspirations fueled by partnerships and $250 million in venture capital it raised last year. (The company has raised $486 million to date.) The company, founded in 2014, has developed the entire ecosystem from the drones and logistics software to launch and landing system. It got its start delivering medical supplies such\",\n",
       "  \"I drove a Tesla for the first time and came away impressed with the much-hyped brand. The Model Y's sleek interior, speedy acceleration, and innovative tech features set it apart. But its oversized touchscreen and lack of physical buttons isn't for everyone. Tesla created and dominates the burgeoning market for electric vehicles. But can the company's popular cars withstand a barrage of competitors from titans like Ford, General Motors, and Volkswagen? That's the big question I sought to answer when I got behind the wheel of a new Tesla Model Y SUV earlier this month. After testing more than a dozen battery-powered rides in the last year — but never one made by Elon Musk — I wondered whether Teslas can live up to the hype or not. Put differently: Are the company's fanatical supporters right, or are its cars nothing special? I borrowed a friend's Tesla to find out for myself. (The company doesn't offer press loans, so journalists have to get creative.) The Model Y is Tesla's small SUV and its most popular product. It has a starting price of $65,990 and two motors that provide all-wheel drive. A Performance version that sacrifices some range for added quickness is available for $4,000 extra, but the base model is plenty sporty. Tesla doesn't have dealerships and instead sells its cars online, direct-to-consumer. Buyers can take delivery at a Tesla location or have their vehicle shipped to their home. Slide into a Tesla and you'll find a refreshingly uncluttered interior free of conventional buttons, vents, and gauges. The cabin's sleek design and understated wood trim more evoke an Apple store than an automobile. This minimalist look is made possible by a large touchscreen that controls practically all important vehicle functions aside from stopping, going, and turning. This command center contains the door locks, A/C settings, speedometer, and navigation system. It's also stuffed with outside-the-box features like games, a digital whoopee cushion, and Netflix, which can help owners pass the time while charging. The display is super responsive to taps and swipes and features crisp graphics. Plus, Tesla regularly adds new\",\n",
       "  'To strengthen its position in Germany, Tesla TSLA expects to significantly ramp up sales in the country, where it opened a new assembly plant in March to build Model Y cars. It reported that it aims to massively scale up production to reach 80,000 units in 2022.From January to August 2022, Tesla sold 24,734 units. In August, the company’s sales in Germany increased nearly 40% and its market share jumped to 2.7%.Tesla’s Model Y has proven to be the major contributor to the company’s robust position in Germany. The vehicle has become Tesla’s most popular offering in the country, fetching the most private new registrations.Efforts are underway at the Giga Berlin to ramp up Model Y production. The factory has started producing 1,000 vehicles per week and aims to reach 5,000 units weekly by the first quarter of 2023.However, there is a brewing problem for the company in the face of rapidly soaring electricity prices.\\xa0 Amid ramp-up plans at Giga Berlin, in a major setback, the EV giant was recently forced to hold back on its factory expansion plan. Tesla had intended to increase the factory by one-third and expand the nearly 750-acre factory site by another 250 acres to develop a freight depot, besides other factory parts.In May, the automaker sent in an application to increase the factory by a third by beginning construction on a further 100 hectares from the existing plant.However, the municipal council of Grünheide, the city near Berlin where the Gigafactory is located, has indefinitely delayed the vote on the planned expansion. Even though the reasons for the delay are unclear, the ripple effects of the ongoing energy spiral may be hinted at.Germany has been caught up in the energy crisis brought by the Russia-Ukraine conflict and recessionary trends. Europe is heavily dependent on Russia for natural gas, and as a retaliation move, Russia has snapped off gas supplies to the continent in general, Germany in particular. A healthy energy market is an essential requirement for EV production to thrive. However the volatile and uncertain situation has affected the EV market, with the Center Automotive',\n",
       "  'By Hyunjoo Jin SAN FRANCISCO (Reuters) - Tesla Chief Executive Elon Musk blamed overreliance on factory robots for sending the electric carmaker to \"production hell\" four years ago, saying humans were better at certain jobs. My, how times have changed. Musk\\'s Texas company now is floating ambitious plans to deploy thousands of humanoid robots, known as Tesla Bot or Optimus, within its factories, expanding eventually to millions around the world, according to job postings. Buzz is building within the company as Tesla is having more internal meetings on robots, a person familiar with the matter said. Longer term, Musk said at a TED Talk robots could be used in homes, making dinner, mowing the lawn and caring for the elderly people, and even becoming a \"buddy\" or a \"catgirl\" sex partner. The robot business eventually may be worth more than Tesla\\'s car revenue, according to Musk, who is now touting a vision for the company that goes well beyond making self-driving electric vehicles. At its \"AI Day\" on Sept. 30, Musk said Tesla will unveil a prototype from its project Optimus, an allusion to the powerful and benevolent leader of the Autobots in the Transformers series. Production could start next year, he said. Tesla faces skepticism that it can show technological advances that would justify the expense of \"general purpose\" robots in factories, homes and elsewhere, according to robotics experts, investors and analysts interviewed by Reuters. Tesla already employs hundreds of robots designed for specific jobs for production of its cars. Humanoid robots have been in development for decades by Honda Motor Co and Hyundai Motor Co\\'s Boston Dynamics unit. Like self-driving cars, the robots have trouble with unpredictable situations. \"Self-driving cars weren\\'t really proved to be as easy as anyone thought. And it\\'s the same way with humanoid robots to some extent,\" the lead of NASA\\'s Dexterous Robotics Team, Shaun Azimi, told Reuters. \"If something unexpected happens, being flexible and robust to those kinds of changes is very difficult.\" At an \"Autonomy\" event in 2019, Musk promised 1 million robotaxis by 2020 but has yet to deliver such a',\n",
       "  \"(Bloomberg) -- Hi everyone, BloombergNEF’s Ryan Fisher here.The cost of setting up an electric-car charging station can vary greatly, according to our latest Commercial EV Charger Price Survey that looks at how hardware and installation costs are shaping up.The 7-22 kilowatt AC chargers — which are found at locations such as hotels and take several hours to juice a battery — can be priced as low as $238 and as high as $10,000, with a larger, fast-charging 150 kilowatt DC unit costing between $16,335 and $135,000. Most Read from Bloomberg Putin Calls Up More Troops, Resumes Nuclear Threat Over Ukraine Home-Flipper Opendoor Hit With Losses in Echo of Zillow Collapse Tycoon's Wild $3 Billion Gamble on ‘China's LVMH’ Crashes ‘Mute Your Phones’: Trump Special Master Hearing Descends Into Chaos UN Latest: Biden Says Russia ‘Shamelessly Violated’ UN Charter As hurdles to charging remain front and center to power the EV revolution, there are huge differences across the world with vastly different outcomes on price. Geography plays a role — the cheapest chargers are produced in Asia, where there are differing certification standards, quality and production volumes. Reliability is also a huge concern, so the software and maintenance offering and the ability for a supplier to help navigate local installation complexities comes into play. Often, companies charge thousands of dollars more for similar products because of successful marketing, making prices in the top end look increasingly unsustainable. While average AC charger prices have remained relatively stable since our survey two years ago, average DC charger prices have dropped by as much as 28%. Even as the industry struggles with inflation, supply-chain shortages and installation issues, some companies are finalizing projects at a fraction of the cost of what their competition is paying. That means there’s significant potential for long-term efficiency gains across the industry. Thanks to healthy demand for home chargers in Europe, the region’s AC charger manufacturers have built up a similar scale than their rivals in Asia. In the DC market, however, Chinese suppliers are producing far more than peers in any other region. BNEF expects the world’s biggest\",\n",
       "  'At the Goldman Sachs tech conference in San Francisco yesterday, Tesla’s (TSLA.) head of investor relations, Martin Viecha, laid out a cheery future for the automaker. His remarks were shared by Business Insider via an attendee at the event. Viecha covered two big topic areas: the costs associated with making EVs, and the outlook for battery technology and the supply of materials. Highlights: In the car business, gross margin is a big deal, basically measuring how much profit an automaker can extract from each car produced. Thus, Viecha said the per vehicle cost is the top metric to track in the coming years. Controlling costs would be the most important factor in how many cars an automaker could make—and how big a company, Tesla in this case, could become. Example: Viecha said in 2017 it cost Tesla $84,000 to make a car. Now that cost has come down to $36,000 in recent quarters. Viecha said almost none of those cost efficiencies came from cheaper batteries; he attributed the savings from better vehicle design that made building the cars easier. Viecha also said Tesla could further reduce the cost of its vehicles by building more in newer, more efficient, factories in Berlin, Austin and Shanghai. Viecha believes another revolution in automotive manufacturing is possible - following Ford’s Model T assembly line and Toyota’s cheaper “lean production” techniques. \"EV architecture is so different from internal combustion engine, it allows for a third revolution in automotive manufacturing,\" Viecha said. Tesla CEO Elon Musk had promised to build a cheaper Tesla for the masses, one that costs around $25,000. The Model 3 was supposed to be in the $35,000 MSRP range; the cheapest Model 3, however, now costs around $47,000 per Tesla\\'s website. Viecha also, at the conference, addressed the possibility of producing a cheaper EV, claiming the company wants an entry-level car to broaden out its portfolio. Why? The cheaper EV is necessary for Tesla to be a high-volume automaker, Viecha said. (And would also be important to have in place before Tesla embarks on its robotaxi service.) As for new models, Viecha'],\n",
       " 'BTC': ['Bitcoin (BTC) and ether (ETH) fell below recent support levels in the past 24 hours in a move that caused over $250 million in liquidations tracking the two assets, according to data. The crypto markets followed a drop in U.S. equities after higher-than-expected inflation readings for August. Futures tracking bitcoin lost upwards of $130 million, edging above ether futures with $125 million. Ethereum Classic (ETC) futures saw over $10 million in losses – an unusual figure for the asset – amid recent trading interest in the tokens. Bitcoin fell some 9% in the past 24 hours, the most among major cryptocurrencies, while ether dropped 6%, CoinDesk data shows. Ether dropped to as low as $1,560 during late U.S. hours on Tuesday, before recovering to as much as $1,622 during Asian morning hours on Wednesday. The sudden dip on Tuesday night was prompted by traders reacting to poor CPI readings. Elsewhere, XRP dropped 8%, solana’s SOL fell 7% and cardano’s ADA plunged 7.5%. Outside of majors, cosmos’s ATOM fell 11%, ApeCoin’s APE dropped 12% and luna classic (LUNC) dropped 14%, continuing a slide from earlier this week. Data suggests part of the price volatility on ether futures came as funding rates surged to yearly highs of nearly 0.15%, as pointed out by analytics firm Coinalyze on Twitter. Funding rates are periodic payments made by traders based on the difference between prices in the futures and spot markets. Depending on their open positions, traders will either pay or receive funding. The payments ensure there are always participants on both sides of the trade. Participants utilize sophisticated strategies to collect funding rates while hedging losses due to token movements – which creates market dynamics that contribute to price volatility. Meanwhile, some markets analysts told CoinDesk that bitcoin was losing its appeal as a potential “inflation hedge” among investors. “In countries where currency depreciation has been greatest, such as Japan, where the dollar to the yen has gained more than 20% since the beginning of the year, bitcoin has lost 35% of its value,” shared currency trader Daniel Kostecki of investment company Conotoxia said',\n",
       "  'The question of whether the U.S. Securities and Exchange Commission (SEC) should be forced to permit spot-based bitcoin exchange-traded-funds (ETF) is now inching through the courts, but industry lobbyists are making another public push to declare the regulator is wrong in opposing the product. The Chamber of Digital Commerce, a Washington, D.C.-based advocacy group, commissioned a report set for release Monday that will accuse the SEC of harming U.S. investors by depriving them of a type of trading vehicle already available in other countries. “It has determined that the American public cannot yet handle the responsibility of familiar, cost-effective, liquid, transparent and regulated access to the bitcoin markets,” according to the report. “The SEC continues to force U.S. investors who wish to invest in this transformative asset class into unregulated or foreign alternatives.” A fund allowing investors to easily trade bitcoins has long been seen as a major step toward accessibility for an industry whose assets are still widely seen as overly esoteric and volatile for the general public. Such ETFs would plug the tokens into the same kind of packaged funds that have long allowed investors to dabble in highly tailored industry sectors, various flavors of bonds or wide stock indexes without locking down their money or incurring management fees. Though the industry won approval for bitcoin (BTC) futures ETFs, 16 separate applicants have been denied in setting up a spot-market version – meaning funds that actually hold bitcoins. The agency has consistently cited the same concern: potential market manipulation. The agency says it can approve an application when the product has “a comprehensive surveillance-sharing agreement with a regulated market of significant size.” The Digital Chamber’s report says the SEC’s position is inconsistent with its past practices and has never budged even as the industry sought to answer agency objections. Earlier this year, the SEC did approve a futures ETF from Teucrium that was filed under the same law that the spot ETF applications relied on, which has further sharpened frustrations for those seeking the spot funds. But SEC Chair Gary Gensler has argued that he’s fine with the',\n",
       "  'Approximately 25,000 Miners (c. 2.5 EH/s) Are Energized in August as Bitcoin Production Improves to 184 BTC LAS VEGAS, Sept. 06, 2022 (GLOBE NEWSWIRE) -- Marathon Digital Holdings, Inc. (NASDAQ:MARA) (\"Marathon\" or \"Company\"), a leader in supporting and securing the Bitcoin ecosystem, today published unaudited bitcoin (“BTC”) production and miner installation updates for August 2022. Management Commentary“In August, we continued to install and energize miners with our hosting providers, increasing our hash rate and steadily improving our bitcoin production,” said Fred Thiel, Marathon’s chairman and CEO. “During the month, approximately 25,000 of our previously installed miners were successfully energized, increasing our hash rate back to approximately 3.2 exahashes per second with our operating mining fleet consisting of approximately 34,000 miners as of August 31. As a result, we produced 184 BTC in August. \"Our hosting providers have continued to install miners at multiple locations. Based on their latest reports, we expect to have approximately 65,000 additional miners, or approximately 6.9 exahashes per second of capacity, brought online at multiple facilities over the next 90 days. With installations and construction of new facilities progressing, these operational advances provide us with confidence that we are on pace to reach our primary target of approximately 23 exahashes per second of capacity near the middle of 2023, at which point, Marathon’s operations are expected to be not only among the largest, but among the most energy efficient on a per terahash basis.” August 2022 and Recent Highlights Operating mining fleet consists of approximately 34,000 active miners, producing approximately 3.2 EH/s, after approximately 25,000 miners (c. 2.5 EH/s) are successfully energized in August Approximately 65,000 additional miners (c. 6.9 EH/s) are expected to be energized over the next 90 days Produced 184 bitcoin in August 2022; year-to-date through August 31, 2022, produced 2,222 bitcoin, a 26% increase over the same time period in the prior year Benefitted from a downward market price adjustment for the S19 XPs set to ship in September; benefits from price adjustments expected to continue as additional XPs are shipped in the October – December timeframe Total bitcoin holdings increased to',\n",
       "  '(Bloomberg) -- Bitcoin rallied the most since July, breaking out of the narrowest trading range in about two years, as a drop in the dollar renewed demand for battered risk assets worldwide. Most Read from Bloomberg Russia Confirms Flight of Troops From Ukraine’s Kharkiv Area Charles Becomes King as the Face of a Nation Changes Ukraine Army’s Breakthrough in North Threatens Russian Grip Credit Card Firms to Start Implementing Code for Gun Stores Ukraine Latest: Zelenskiy Warns of Winter as Russians Pull Back The largest cryptocurrency by market value advanced as much as 10.1% to $21,341 as of 12:05 p.m. in New York. The increase was the most since July 19. Bitcoin is outperforming most of the other top tokens such as Ether and Cardano. Bitcoin and Ether are still both down about 50% this year. “It’s too early to predict that we are approaching another bull run, but if Bitcoin regains a higher support level between $22,000-$25,000 then it may boost investor confidence and ease off the selling pressure across crypto assets,” said Tarusha Mittal, co-founder of crypto staking platform UniFarm. “Given the fact that central banks around the world remain cautious due to the high inflation numbers, the current surge in the crypto market might be short-lived,” she adds. The Bloomberg Dollar Spot Index tumbled 0.9% on Friday after surging to the highest on record this week. Every Group-of-10 currency strengthened against the greenback, with the risk-sensitive Australian dollar and Norwegian krone leading gains. Bitcoin has been stuck in the tightest trading range in almost two years in September, in part reflecting uncertainty about how far central banks will go in raising interest rates in the face of a slowing global economy. Amid the lack of direction, some analysts have pointed to activity in futures markets as suggesting Bitcoin may be poised to break out. Read more: Bitcoin Is Seen Poised to Escape From Tightest Range in 2 Years Riyad Carey, an analyst at crypto researcher Kaiko, highlighted a jump in open interest in Bitcoin futures on some of the biggest exchanges. “It appears that there was a',\n",
       "  'Business software firm MicroStrategy (MSTR) has filed with the Securities and Exchange Commission for a stock offering to raise up to $500 million and said it intends to use the proceeds at least in part to buy additional bitcoin. “We intend to use the net proceeds from this offering for general corporate purposes, including the acquisition of bitcoin,” the company wrote in its prospectus. Under its founder and former CEO Michael Saylor, MicroStrategy has acquired billions of dollars worth of bitcoin in recent years, with its stock becoming a proxy of sorts for the cryptocurrency. In the past, MicroStrategy has used both debt and equity raises to purchase additional bitcoin. Shares of MicroStrategy rose almost 12% on Friday in tandem with bitcoin’s almost 10% rise over the past 24 hours. But shares were down about 1% in after-hours trading. Saylor and MicroStrategy were recently sued by the District of Columbia for allegedly evading taxes on Saylor’s earnings in the district. Related Quotes Nio (NYSE: NIO) reported increasing losses in its second-quarter earnings report this week, but investors are shrugging that off, sending shares soaring Friday morning.  Although its profit margins have been on a downward trend, new models being launched could turn that around in the coming years.  Consumer prices in China increased at a slower pace than many expected in August, and producer inflation sank to the lowest level since February 2021, reports Reuters. Peloton Interactive (NASDAQ: PTON) shares beat the market on Friday as the stock gained 11% by 1 p.m. ET compared to a 1.2% increase in the S&P 500.  Shares have been reeling in recent months as Peloton struggled to boost sales of its exercise platforms or membership subscriptions to its services. Berkshire Hathaway is on pace to collect $6.07 billion in dividend income over the next 12 months. Just five holdings will account for 71% of total payouts. All week long, trading in Nvidia (NASDAQ: NVDA) stock has been strong.  After opening lower following the long holiday weekend, shares of the semiconductors-for-gaming leader have notched three straight days of stock price',\n",
       "  \"Ford (F): Shares fell in extended trading after the company warned of larger costs due to inflation and supply chain challenges. Ford now sees inflation related supply costs to be about $1 billion higher during the quarter compared to its previous estimate and sees supply shortages affecting about 40,000 to 45,000 vehicles, shifting some revenue to the fourth quarter. Ford sees 3Q adjusted EBIT of $1.4 billion to $1.7 billion but reaffirmed its adjusted full-year EBIT guidance. Bitcoin (BTC-USD): Bitcoin slid below $19,000 its lowest level in three months as risky assets dropped ahead of the Federal Reserve’s rate decision on Wednesday. Bitcoin fell to an intraday low of $18,420.94 on Monday while Ethereum (ETH-USD) declined to $1,289.27. Cognex (CGNX): The manufacturer raised its revenue guidance for the third quarter driven by its ability to “fulfill customer demand faster than expected.” Cognex now sees revenue between $195 million and $205 million, up from a prior range of $180 million to $190 million. Click here for the latest trending stock tickers of the Yahoo Finance platform Click here for the latest stock market news and in-depth analysis, including events that move stocks Read the latest financial and business news from Yahoo Finance Download the Yahoo Finance app for Apple or Android Follow Yahoo Finance on Twitter, Facebook, Instagram, Flipboard, LinkedIn, and YouTube Related Quotes Ford (F) expects Q3 adjusted EBIT of $1.4-$1.7 billion, implying a fall from the $3.7 billion recorded in Q2. Ford said Monday that supplier costs will be $1 billion higher in the third quarter than expected due to rising inflation and persistent supply chain problems.  Ford also disclosed that supply shortages have caused a backlog of thousands of assembled, yet incomplete vehicles.  Ford anticipates that between 40,000 and 45,000 unfinished vehicles — most of which are high-margin trucks and SUVs — will remain in the automaker's inventory waiting for needed parts through the end of the third quarter. Here are 4 tickers trending on Yahoo Finance in premarket trading: Chip giant Nvidia Corp on Tuesday unveiled its new computing platform called DRIVE Thor that would\",\n",
       "  'This news release constitutes a “designated news release” for the purposes of the Company’s prospectus supplement dated March 4, 2022 to its short form base shelf prospectus dated February 23, 2022. TORONTO, Sept. 07, 2022 (GLOBE NEWSWIRE) -- Digihost Technology Inc. (“Digihost” or the “Company”) (Nasdaq: DGHI; TSXV: DGHI), an innovative U.S. based Bitcoin (“BTC”) mining company, is pleased to provide unaudited comparative BTC production results for the month ended August 31, 2022, combined with an operations update. All monetary references are expressed in USD unless otherwise indicated. Production Highlights for August 2022 Mined 67.97 BTC, resulting in total holdings of 176.61 BTC at the end of August valued at approximately $3.54 million based on a BTC price of $20,050 as of August 31, 2022. Ethereum (“ETH”) holdings of 1,000.89 ETH at the end of August valued at approximately $1.56 million based on an ETH price of $1,554 as of August 31, 2022. Total digital asset inventory value, consisting of BTC and ETH, of approximately $5.10 million as of August 31, 2022. To avoid equity dilution for its shareholders, management sold a portion of its BTC production during August to fund its energy costs. The Company remains debt free as of August 31, 2022. In continuing its support of the power needs of the local community, the Company reduced its overall energy consumption during the month of August 2022 with its operation running predominantly at off-peak hours. Year-Over-Year Monthly Comparison The Company mined approximately 23.90 more BTC in August 2022, compared to August 2021, representing an increase of approximately 54.2%. Figure 1. Year-over-year Monthly BTC Production \\xa0 \\xa0 \\xa0 \\xa0 \\xa0 Aug-22 Aug-21 \\xa0 MoM Increase \\xa0 Mined BTC \\xa0 67.97 \\xa0 44.07 \\xa0 23.90 \\xa0 Approximate BTC value $20,050 $47,167 ($27,117 ) Production Value $1,362,799 $2,078,650 ($715,851 ) \\xa0 \\xa0 \\xa0 \\xa0 Year-Over-Year YTD Comparison The Company mined approximately 184.36 more BTC on a year-to-date basis as of August 31 2022, as compared to the same period ended August 31 2021, representing an increase of approximately 47.6%. Figure 2. Year-over-year YTD BTC Production \\xa0 \\xa0 \\xa0 \\xa0 \\xa0 YTD']}"
      ]
     },
     "execution_count": 50,
     "metadata": {},
     "output_type": "execute_result"
    }
   ],
   "source": [
    "def scrape_and_process(URLs):\n",
    "    ARTICLES = []\n",
    "    for url in URLs: \n",
    "        r = requests.get(url)\n",
    "        soup = BeautifulSoup(r.text, 'html.parser')\n",
    "        paragraphs = soup.find_all('p')\n",
    "        text = [paragraph.text for paragraph in paragraphs]\n",
    "        words = ' '.join(text).split(' ')[:350]\n",
    "        ARTICLE = ' '.join(words)\n",
    "        # regex\n",
    "        match = zhPattern.search(ARTICLE)\n",
    "        if not match:\n",
    "            ARTICLES.append(ARTICLE)\n",
    "       \n",
    "    return ARTICLES\n",
    "\n",
    "articles = {tickers : scrape_and_process(cleaned_urls[tickers]) for tickers in monitored_tickers }\n",
    "\n",
    "articles"
   ]
  },
  {
   "cell_type": "markdown",
   "metadata": {},
   "source": [
    "### Summerize all articles"
   ]
  },
  {
   "cell_type": "code",
   "execution_count": 51,
   "metadata": {},
   "outputs": [
    {
     "data": {
      "text/plain": [
       "{'GME': [\"No-fee trading has transformed the retail trading landscape, making it possible for everyday traders to participate in the markets. Payment For Order Flow (PFOF) — fees for trades paid to brokerages by market makers like Citadel and Virtu — have garnered increased attention since the GameStop (GME) saga grabbed national attention last year. A new study aimed at identifying variation in price execution across different brokers using six accounts found a large variation among platforms such as Robinhood (HOOD) and E-trade. “There's just a huge difference in execution between the six different brokers that we used,” said Christopher Schwarz, University of California Irvine professor of finance and faculty director of the Center for Investment and Wealth Management. “Essentially, what we found is the amount the broker is getting paid for the trades really had no relation to how much execution your — what price execution you were getting. And there's really no way for you to know ahead of time which broker was giving you the best price execution of these trades and which broker was giving you the worst execution,” said Schwarz. Although the study aims to look at the dynamics surrounding no-fee trading and PFOF, when asked, Schwarz mentioned the brokerage with the best outcome. “The best broker in terms of market trades only, looking at market trades only, was TD Ameritrade. They were number one,” said Schwarz. The professor's team found price execution data needs to be provided at the broker level. This way consumers can better compare brokerages. “In other words, what Citadel gives you is just an average of the price execution they'll give you on any Apple trade. And, essentially, what we found is the market centers are systematically giving brokers different pricing,” said Schwarz. To solve this, market makers should say “exactly what kind of pricing you get at TD versus Robinhood versus eTrade versus Fidelity. And then consumers have a much better way to make a comparison about what kind of price execution that they're getting,” he added. Ines is a markets reporter covering equities. Follow her on Twitter at @ines_ferre Click\",\n",
       "  \"By Liz Moyer Investing.com -- Stocks headed lower after the Labor Day weekend, as investors awaited more economic data and words from Federal Reserve officials this week. The market already started September off on a bad note on fears about an aggressive inflation-fighting campaign by the Fed that could tip the economy into a recession. A growing energy crisis in the European Union is adding to the jitters as Russia cut off the continent from a key natural gas pipeline with just weeks before the colder weather will set in. The Fed next meets later this month, but this week will feature speeches and public remarks from several officials including Jerome Powell himself, who is scheduled to speak Thursday morning. Though he's unlikely to play the Fed's hand, onlookers believe the Fed will continue on its path to raise rates another 0.75 percentage points. On Wednesday, the Fed releases the economic summaries from its district banks known as the Beige Book. Later this month comes inflation data that could factor into the Fed's decision. Here are three things that could affect markets tomorrow. 1. Beige Book This periodic report from the 12 Fed district banks paints a picture of what is happening in manufacturing, services and other business sectors and in consumer behavior. It's due out at 14:00 ET (18:00 GMT). 2. GameStop earnings Analysts expect meme stock and game retailer GameStop Corp (NYSE:GME) to report a loss per share of 42 cents on revenue of $1.27 billion. 3. Nio earnings Analysts expect Nio Inc (NYSE:NIO), the electric vehicle maker, to report a loss per share of $1.16 on revenue of $9.7 billion. Related Articles Beige Book, GameStop, Nio Earnings: 3 Things to Watch Bed Bath & Beyond names interim CFO after executive's death Pharmacy operators Walmart, Walgreens, Kroger begin opioid trial in New Mexico Related Quotes In this article, we discuss the 6 stocks that Warren Buffett is decreasing stakes in. If you want to read about some stocks in the Buffett portfolio, go directly to Warren Buffett is Decreasing Stakes in These 3 Stocks. Warren Buffett of Berkshire\",\n",
       "  \"BERLIN, Sept 21 (Reuters) - Germany will impose a gas levy on consumers as planned from October 1, the economy minister said on Wednesday. However, there will be an analysis of whether that levy is in accordance with German law after the nationalisation of gas importer Uniper, Robert Habeck told journalists, adding that this could take about three months. The levy was supposed to help gas importers to procure much more expensive replacements after the shortfall of Russian gas. (Reporting by Rachel More, Kirsti Knolle Editing by Paul Carrel) The ‘70s are coming back in a big way, and while that’s not so bad in fashion or in music, it’s safe to say that no one really wants that ‘70s economy back. That was the decade that brought stagflation, a nasty mix of high inflation, increasing unemployment, and stagnant job growth. Economists had long thought that combo impossible, but the economic mismanagement of the Carter Administration proved them wrong. At least one top economist, Mohamed El-Erian from Allianz, sees a stagflationary perio THE MONEYIST  Dear Quentin,\\xa0   I am a senior citizen and have suffered major losses to the tune of $100,000 in the recent stock market turmoil. Can I sue my financial adviser? I understand the dynamics of the market as far as its ups and downs, and have ridden them out before. Ignore Buffett's wisdom? Maybe just this once. (Bloomberg) -- Economist Nouriel Roubini, who correctly predicted the 2008 financial crisis, sees a “long and ugly” recession in the US and globally occurring at the end of 2022 that could last all of 2023 and a sharp correction in the S&P 500.Most Read from BloombergHome-Flipper Opendoor Hit With Losses in Echo of Zillow CollapseSouthwest Mexico Struck by 7.5 Magnitude Earthquake, Buildings Sway in CapitalTycoon's Wild $3 Billion Gamble on ‘China's LVMH’ CrashesMark Zuckerberg’s $71 Billion Wea Shares of hydrogen fuel-cell pioneer Plug Power (NASDAQ: PLUG) sold off in early Tuesday trading, falling 3.4% through 10:05 a.m. ET on news that a tiny rival may have a big advantage over the company.  As Reuters reported this\",\n",
       "  \"Q2 2022 GameStop Corp Earnings Call GRAPEVINE Sep 7, 2022 (Thomson StreetEvents) -- Edited Transcript of GameStop Corp earnings conference call or presentation Wednesday, September 7, 2022 at 9:00:00pm GMT TEXT version of Transcript ================================================================================ Corporate Participants ================================================================================ * Matthew Furlong GameStop Corp. - President, CEO & Director ================================================================================ Presentation -------------------------------------------------------------------------------- Operator [1] -------------------------------------------------------------------------------- Good afternoon, and welcome to the GameStop Second Quarter 2022 Earnings Conference Call. Please note that certain statements made during the call constitute forward-looking statements made pursuant to the safe harbor provisions of the Private Securities Litigation Act of 1995 as amended. Such forward-looking statements are subject to both known and unknown risks and uncertainties that could cause actual results to differ materially from such statements. These risks and uncertainties are described in the company's earnings press release and its filings with the SEC. The forward-looking statements today are made as of the date of this call, and the company does not undertake any obligation to update the forward-looking statements. I will now turn the call over to GameStop's CEO, Matt Furlong. -------------------------------------------------------------------------------- Matthew Furlong, GameStop Corp. - President, CEO & Director [2] -------------------------------------------------------------------------------- Thank you, and good afternoon, everyone. I want to begin by reiterating the deep appreciation we have for our stockholders' unrivaled enthusiasm, passion and support. As we work to transform GameStop, these remain unique tailwinds for us, ones we always recognize and value. I also want to take this opportunity to thank everyone across the organization for bringing continued focus and intensity to our mission, particularly during an active Q2 that represented a transitional quarter for us. Before covering the quarter's specific initiatives and results, I want to provide a high-level update on where we've been and where we're looking to go as our transformation progresses. When our Board began turning over early last year, GameStop was saddled with significant debt, decaying systems, limited employee depth and a host of other issues. This is why we spent the second half of 2021 and the first half of 2022 making up for years of underinvestment in modernizing the business. The upshot is we\",\n",
       "  \"If you think the stock market selloff has come to an end, Morgan Stanley has some bad news. The S&P 500 is already down 17% year to date, but the Wall Street juggernaut believes the market has yet to hit a bottom. “Our '22/'23/'24 base case estimates are now 3%/13%/14% below consensus, respectively,” a team of Morgan Stanley analysts led by Mike Wilson write in a recent note to investors. “In our base case, 2023 now marks a modest earnings contraction (-3% year-over-year growth), though we do not embed an economic recession in this scenario.” “While acknowledging the poor performance in equities year-to-date, we do not think the bear market is over if our earnings forecasts are correct.” The analysts expect the S&P 500 to fall to 3,400 by year-end. And if a recession hits the economy, they say the benchmark index could drop to 3,000. Considering that the S&P 500 sits at around 3,980 right now, Morgan Stanley’s projection implies a further downside of 15% to 25%. That doesn’t mean selling everything. The Wall Street firm still sees upside in quite a few companies. Here’s a look at three that it finds particularly attractive. 'Millions will be wiped out': Kiyosaki says the economy is in trouble. But now is also the perfect time to 'get richer' — here are the top 2 ways to do it You could be the landlord of Walmart, Whole Foods and Kroger (and collect fat grocery store-anchored income on a quarterly basis) What do Ashton Kutcher and a Nobel Prize-winning economist have in common? An investing app that turns spare change into a diversified portfolio This American pharmaceutical giant commands more than $290 billion in market cap, with products marketed in 120 countries around the world. Despite the market downturn this year, Eli Lilly is not a beaten-down stock. In the first six months of 2022, Eli Lilly’s revenue grew 6% year over year. Meanwhile, the company’s adjusted earnings per share improved 12% from a year ago. Shares are actually up roughly 15% so far in 2022, and Morgan Stanley expects the trend to\",\n",
       "  '(Bloomberg) -- GameStop Corp. shares were up on Thursday after the video game retailer announced a partnership with cryptocurrency exchange FTX US, suggesting the company is making strides in its strategy shift to nonfungible tokens. But analysts were still skeptical about the longterm growth prospects after the company reported a decline in sales and a wider loss in the second quarter. Most Read from Bloomberg US Inflation Tops Forecasts, Cementing Odds of Big Fed Hike Ugly Selloff Pushes Stocks Down Most Since 2020: Markets Wrap The World’s Hottest Housing Markets Are Facing a Painful Reset Hedge Fund’s Decade-Long Wait for Yuan Crash Nears Payday Ukrainian Successes Raise Russian Collapse to Realm of Possibility GameStop said Wednesday it will collaborate with FTX US, one of the biggest cryptocurrency exchanges, on new e-commerce and online marketing initiatives, and will begin carrying FTX gift cards in select stores. The financial terms of the partnership weren’t disclosed. GameStop shares, which are down 35% this year, rose about 7% in premarket trading. The agreement builds on GameStop’s earlier forays into NFTs, including the launch in June of a digital asset wallet to allow gamers to store, send and receive cryptocurrencies and NFTs. In July, the company rolled out an NFT marketplace to trade those assets, despite the fact that sales of such digital artworks have declined amid the crypto industry crash. The pivot to NFTs has yet to show up GameStop’s results. Net sales declined 4% to $1.14 billion in the fiscal second quarter, the company said in a statement, falling short of analysts’ estimates. The company’s net loss nearly doubled to $108.7 million. The bulk of GameStop’s business remains in a state of “extreme secular decline,” and investors shouldn’t fall for the company’s “endless series of gimmicky announcements,” analysts at Vital Knowledge wrote in a note to investors. Chairman Ryan Cohen has been pushing GameStop into crypto in an effort to turn around the fortunes of the beleaguered gaming company, which hasn’t seen a quarterly profit since the end of 2021. Cohen, who also founded pet e-commerce site Chewy Inc., has seized on gamers',\n",
       "  'In this article, we will look at the 10 stocks that Redditors of WallStreetBets are buying in September. If you want to explore more stocks that Redditors are bullish on in September, you can also take a look at Reddit\\'s WallStreetBets is Buying These 5 Stocks in September. WallStreetBets became popular after a group of retail investors waged war against elite hedge funds that were shorting the brick-and-mortar video game retailer, GameStop Corp. (NYSE:GME), and aggressively bought shares of the company which resulted in billions of losses for the short sellers. The GameStop (NYSE:GME) short squeeze was a historic event that had reverberations across the entire hedge fund industry. It was at this moment, that retail investors recognized their potential and realized that they too can make money in the stock market by learning about it. WallStreetBets has grown in popularity over the past year and as of September 11, 2022, the community has over 12.5 million members. WallStreetBets was founded by Jaime Rogozinski in 2012, an entrepreneur living in Mexico, who wanted to create a community of retail investors that can come together and discuss their trading strategies. Jaime Rogozinski was recently featured on Yahoo Finance, where he explained how WallStreetBets makes finance accessible for everyone, and how retail traders are leveraging the forum to educate themselves about the stock market. Here are some comments from the founder of WallStreetBets: \"One of the things about retail traders and WallStreetBets is that it\\'s a collective. It\\'s not an individual that says today we\\'re going to do this. The people come together and they collectively decide and they make efforts. It\\'s a democracy and sometimes people want to to go for one particular stock and it works and sometimes it doesn\\'t... I think that the younger generations, the retail generation, the millennials, the gen z\\'s, they\\'re very hands-on... It\\'s \"I\\'m going to do this myself. I\\'m going to figure out how to do this myself\" and so it\\'s only natural for them to also want to try and take control of their finances or learn about the the stock market on',\n",
       "  \"Bed Bath & Beyond (BBBY): Shares moved higher in after-hours trading, after surging nearly 25% on Monday, ahead of the retailer’s highly anticipated strategic update August 31. The Wall Street Journal reported last week that Bed Bath & Beyond is close to finalizing a loan of nearly $400 million as it seeks to boost liquidity. Shares of the meme stock have soared this month and on pace for a record monthly gain in August, with the stock rallying more than 170%. Bed Bath & Beyond’s gains lifted other meme favorites, including GameStop (GME) and AMC (AMC). Best Buy (BBY): Best Buy is in focus ahead of its quarterly results before the bell Tuesday. The company cut its full year profit and sales forecast in July, citing softening demand. Best Buy CEO Corie Barry wrote “as high inflation has continued and consumer sentiment has deteriorated, customer demand within the consumer electronics industry has softened even further, leading to Q2 financial results below the expectations we shared in May.” The retailer is expected to post adjusted earnings from continuing operations of $1.35 per share on revenue of $10.33 billion, according to Wall Street's consensus estimates compiled by Bloomberg. Baidu (BIDU): Baidu shares fell Monday ahead of the Chinese tech giant’s earnings Tuesday before the bell. Covid disruptions are expected to weigh on results, with the Street forecasting its first negative sales growth in two years. Daily active users for the quarter are estimated to total 228.4 million. Peloton (PTON): Peloton filed to delay its 10-K, saying it requires more time to complete accounting disclosures. According to the regulatory filing, Peloton needs additional time “to permit completion of the accounting and disclosures” related to its recent announcement to exit its last mile warehouses, “including management’s assessment of the effectiveness of internal controls over financial reporting as it relates to its accounts and disclosures related to these strategic business developments and for its registered public accounting firm, Ernst & Young LLP, to complete its necessary audit procedures over these matters,” according to the filing. Peloton shares have fallen -62% in the past six months.\",\n",
       "  'GRAPEVINE, Texas, September 07, 2022--(BUSINESS WIRE)--GameStop Corp. (NYSE: GME) (\"GameStop\" or the \"Company\") today released financial results for the second quarter ended July 30, 2022. The Company’s condensed and consolidated financial statements, including GAAP and non-GAAP results, are below. The Company’s Form 10-Q and supplemental information can be found at http://investor.GameStop.com. SECOND QUARTER OVERVIEW Net sales were $1.136 billion for the quarter, compared to $1.183 billion in the prior year’s second quarter. Sales attributable to collectibles, which is a segment the Company intends to grow over the long-term, were $223.2 million for the quarter, compared to $177.2 million in the prior year’s second quarter. Selling, general and administrative expenses were $387.5 million for the quarter, representing a sequential decline of 14.3% from the first quarter of 2022 and reflecting, in part, the Company’s focus on right-sizing costs following a period of significant investment in long-term initiatives. Inventory was $734.8 million at the close of the quarter, compared to $596.4 million at the close of the prior year’s second quarter, reflecting the Company’s focus on maintaining adequate in-stock levels to meet customer demand and offset lingering supply chain headwinds. Followed the launch of the Company\\'s digital wallet by launching the Company\\'s non-fungible token (\"NFT\") marketplace to allow gamers, creators, collectors and others to buy, sell and trade NFTs. Modernized and strengthened the Company’s systems through the implementation of SAP. Ended the period with cash and cash equivalents of $908.9 million as well as no debt other than a low-interest, unsecured term loan associated with the French government’s response to COVID-19. CONFERENCE CALL INFORMATION A webcast with management is scheduled for September 7, 2022, at 5:00 p.m. ET to discuss the Company’s quarter activities and financial results. This call, along with supplemental information, can also be accessed at http://investor.GameStop.com. The phone number for the investor conference call is 1-877-407-6169 and the confirmation code is 13732487. This webcast will be archived for two months on GameStop’s investor relations website. NON-GAAP MEASURES AND OTHER METRICS As a supplement to the Company’s financial results presented in accordance with U.S. generally accepted accounting principles (GAAP), GameStop'],\n",
       " 'TSLA': ['I tried Autopilot, Tesla\\'s advanced driver-assistance system, in the Model Y SUV. It steers automatically to follow curves in the road and keeps pace with traffic. It would be a welcome tool on long and boring highway drives. Elon Musk says it all the time: Tesla is as much a software company as it is an automaker. Whether you agree or not, there\\'s no doubt the company\\'s buzziest and most controversial piece of technology is Autopilot. Many Tesla owners swear by the semi-automated driving feature. At the same time, the federal government is investigating crashes where Autopilot-enabled cars collided with parked emergency vehicles. Some safety experts argue that the Autopilot moniker invites too much confidence in the system, given that it isn\\'t autonomous. Needless to say, I was eager to test out Autopilot for myself when reviewing a Tesla Model Y recently.   Autopilot, first released in 2014, is an advanced driver-assistance system that relies on a suite of cameras to \"see\" surrounding traffic and take over some driving tasks. Basically, it\\'s a smarter version of cruise control that adjusts speed in response to the vehicle ahead and steers to follow bends in the road. Musk has promised that self-driving Teslas are just around the corner for years, but that still hasn\\'t materialized. Autopilot (like other brands\\' similar features) ranks at a Level 2 on the widely accepted five levels of driving automation, meaning it requires full human supervision. In a Level 5 car, passengers would be able to nap while the vehicle does 100% of the work. Autopilot comes standard on all Teslas. It differs from the company\\'s pricier Enhanced Autopilot and Full Self-Driving features, which pile on extra capabilities but still don\\'t deliver full autonomy.   Autopilot performed impressively well over a couple of hours of driving on divided highways and some two-lane roads. Full disclosure: This brief test happened in daylight under ideal weather conditions. After depressing the right stalk twice, Autopilot activated instantly almost every time. Some other systems I\\'ve tried can take several seconds to lock into the lane lines. Braking or knocking',\n",
       "  \"Zipline has hired departing Verily CFO and Tesla veteran Deepak Ahuja as its first chief business and financial officer, an appointment that comes as the drone delivery and logistics startup accelerates its global expansion in Africa, the United States and other regions. Ahuja, who is leaving his post at Alphabet's unit Verily Life Sciences, will start in the new role September 30. (Verily, which said Friday it raised $1 billion, also announced Ahuja was leaving the company.) Ahuja will oversee Zipline's global financial operations such as finance, accounting, investor relations and global sales. The role will not include Africa, a region where Zipline got its start and continues to operate in Côte d'Ivoire, Ghana, Kenya, Nigeria and Rwanda. Daniel Marfo, who is based in Ghana and has been with Zipline since 2019, will continue to oversee existing operations in the region to maintain continuity there, according to the company. Marfo was promoted to senior vice president of Zipline's Africa operations in 2020. Zipline also operates in Japan and in the United States, including Arkansas and North Carolina. The company is expanding to Utah later this year through a partnership with Intermountain Health and announced plans to begin operations with Multicare Health System in Washington starting in 2024. Ahuja will focus on building Zipline's business in the United States and other regions globally, the company told TechCrunch. Ahuja comes to Zipline with decades in the financial world, most recently as CFO at Verily Life Sciences. Perhaps his most visible role was as Tesla's first CFO, a position he held from 2008 to 2015 and then again from 2017 to 2019. During his tenure at Tesla, Ahuja was at the helm when it became a publicly traded company and after years of losses eventually became profitable. His appointment signals Zipline's growing aspirations fueled by partnerships and $250 million in venture capital it raised last year. (The company has raised $486 million to date.) The company, founded in 2014, has developed the entire ecosystem from the drones and logistics software to launch and landing system. It got its start delivering medical supplies such\",\n",
       "  \"I drove a Tesla for the first time and came away impressed with the much-hyped brand. The Model Y's sleek interior, speedy acceleration, and innovative tech features set it apart. But its oversized touchscreen and lack of physical buttons isn't for everyone. Tesla created and dominates the burgeoning market for electric vehicles. But can the company's popular cars withstand a barrage of competitors from titans like Ford, General Motors, and Volkswagen? That's the big question I sought to answer when I got behind the wheel of a new Tesla Model Y SUV earlier this month. After testing more than a dozen battery-powered rides in the last year — but never one made by Elon Musk — I wondered whether Teslas can live up to the hype or not. Put differently: Are the company's fanatical supporters right, or are its cars nothing special? I borrowed a friend's Tesla to find out for myself. (The company doesn't offer press loans, so journalists have to get creative.) The Model Y is Tesla's small SUV and its most popular product. It has a starting price of $65,990 and two motors that provide all-wheel drive. A Performance version that sacrifices some range for added quickness is available for $4,000 extra, but the base model is plenty sporty. Tesla doesn't have dealerships and instead sells its cars online, direct-to-consumer. Buyers can take delivery at a Tesla location or have their vehicle shipped to their home. Slide into a Tesla and you'll find a refreshingly uncluttered interior free of conventional buttons, vents, and gauges. The cabin's sleek design and understated wood trim more evoke an Apple store than an automobile. This minimalist look is made possible by a large touchscreen that controls practically all important vehicle functions aside from stopping, going, and turning. This command center contains the door locks, A/C settings, speedometer, and navigation system. It's also stuffed with outside-the-box features like games, a digital whoopee cushion, and Netflix, which can help owners pass the time while charging. The display is super responsive to taps and swipes and features crisp graphics. Plus, Tesla regularly adds new\",\n",
       "  'To strengthen its position in Germany, Tesla TSLA expects to significantly ramp up sales in the country, where it opened a new assembly plant in March to build Model Y cars. It reported that it aims to massively scale up production to reach 80,000 units in 2022.From January to August 2022, Tesla sold 24,734 units. In August, the company’s sales in Germany increased nearly 40% and its market share jumped to 2.7%.Tesla’s Model Y has proven to be the major contributor to the company’s robust position in Germany. The vehicle has become Tesla’s most popular offering in the country, fetching the most private new registrations.Efforts are underway at the Giga Berlin to ramp up Model Y production. The factory has started producing 1,000 vehicles per week and aims to reach 5,000 units weekly by the first quarter of 2023.However, there is a brewing problem for the company in the face of rapidly soaring electricity prices.\\xa0 Amid ramp-up plans at Giga Berlin, in a major setback, the EV giant was recently forced to hold back on its factory expansion plan. Tesla had intended to increase the factory by one-third and expand the nearly 750-acre factory site by another 250 acres to develop a freight depot, besides other factory parts.In May, the automaker sent in an application to increase the factory by a third by beginning construction on a further 100 hectares from the existing plant.However, the municipal council of Grünheide, the city near Berlin where the Gigafactory is located, has indefinitely delayed the vote on the planned expansion. Even though the reasons for the delay are unclear, the ripple effects of the ongoing energy spiral may be hinted at.Germany has been caught up in the energy crisis brought by the Russia-Ukraine conflict and recessionary trends. Europe is heavily dependent on Russia for natural gas, and as a retaliation move, Russia has snapped off gas supplies to the continent in general, Germany in particular. A healthy energy market is an essential requirement for EV production to thrive. However the volatile and uncertain situation has affected the EV market, with the Center Automotive',\n",
       "  'By Hyunjoo Jin SAN FRANCISCO (Reuters) - Tesla Chief Executive Elon Musk blamed overreliance on factory robots for sending the electric carmaker to \"production hell\" four years ago, saying humans were better at certain jobs. My, how times have changed. Musk\\'s Texas company now is floating ambitious plans to deploy thousands of humanoid robots, known as Tesla Bot or Optimus, within its factories, expanding eventually to millions around the world, according to job postings. Buzz is building within the company as Tesla is having more internal meetings on robots, a person familiar with the matter said. Longer term, Musk said at a TED Talk robots could be used in homes, making dinner, mowing the lawn and caring for the elderly people, and even becoming a \"buddy\" or a \"catgirl\" sex partner. The robot business eventually may be worth more than Tesla\\'s car revenue, according to Musk, who is now touting a vision for the company that goes well beyond making self-driving electric vehicles. At its \"AI Day\" on Sept. 30, Musk said Tesla will unveil a prototype from its project Optimus, an allusion to the powerful and benevolent leader of the Autobots in the Transformers series. Production could start next year, he said. Tesla faces skepticism that it can show technological advances that would justify the expense of \"general purpose\" robots in factories, homes and elsewhere, according to robotics experts, investors and analysts interviewed by Reuters. Tesla already employs hundreds of robots designed for specific jobs for production of its cars. Humanoid robots have been in development for decades by Honda Motor Co and Hyundai Motor Co\\'s Boston Dynamics unit. Like self-driving cars, the robots have trouble with unpredictable situations. \"Self-driving cars weren\\'t really proved to be as easy as anyone thought. And it\\'s the same way with humanoid robots to some extent,\" the lead of NASA\\'s Dexterous Robotics Team, Shaun Azimi, told Reuters. \"If something unexpected happens, being flexible and robust to those kinds of changes is very difficult.\" At an \"Autonomy\" event in 2019, Musk promised 1 million robotaxis by 2020 but has yet to deliver such a',\n",
       "  \"(Bloomberg) -- Hi everyone, BloombergNEF’s Ryan Fisher here.The cost of setting up an electric-car charging station can vary greatly, according to our latest Commercial EV Charger Price Survey that looks at how hardware and installation costs are shaping up.The 7-22 kilowatt AC chargers — which are found at locations such as hotels and take several hours to juice a battery — can be priced as low as $238 and as high as $10,000, with a larger, fast-charging 150 kilowatt DC unit costing between $16,335 and $135,000. Most Read from Bloomberg Putin Calls Up More Troops, Resumes Nuclear Threat Over Ukraine Home-Flipper Opendoor Hit With Losses in Echo of Zillow Collapse Tycoon's Wild $3 Billion Gamble on ‘China's LVMH’ Crashes ‘Mute Your Phones’: Trump Special Master Hearing Descends Into Chaos UN Latest: Biden Says Russia ‘Shamelessly Violated’ UN Charter As hurdles to charging remain front and center to power the EV revolution, there are huge differences across the world with vastly different outcomes on price. Geography plays a role — the cheapest chargers are produced in Asia, where there are differing certification standards, quality and production volumes. Reliability is also a huge concern, so the software and maintenance offering and the ability for a supplier to help navigate local installation complexities comes into play. Often, companies charge thousands of dollars more for similar products because of successful marketing, making prices in the top end look increasingly unsustainable. While average AC charger prices have remained relatively stable since our survey two years ago, average DC charger prices have dropped by as much as 28%. Even as the industry struggles with inflation, supply-chain shortages and installation issues, some companies are finalizing projects at a fraction of the cost of what their competition is paying. That means there’s significant potential for long-term efficiency gains across the industry. Thanks to healthy demand for home chargers in Europe, the region’s AC charger manufacturers have built up a similar scale than their rivals in Asia. In the DC market, however, Chinese suppliers are producing far more than peers in any other region. BNEF expects the world’s biggest\",\n",
       "  'At the Goldman Sachs tech conference in San Francisco yesterday, Tesla’s (TSLA.) head of investor relations, Martin Viecha, laid out a cheery future for the automaker. His remarks were shared by Business Insider via an attendee at the event. Viecha covered two big topic areas: the costs associated with making EVs, and the outlook for battery technology and the supply of materials. Highlights: In the car business, gross margin is a big deal, basically measuring how much profit an automaker can extract from each car produced. Thus, Viecha said the per vehicle cost is the top metric to track in the coming years. Controlling costs would be the most important factor in how many cars an automaker could make—and how big a company, Tesla in this case, could become. Example: Viecha said in 2017 it cost Tesla $84,000 to make a car. Now that cost has come down to $36,000 in recent quarters. Viecha said almost none of those cost efficiencies came from cheaper batteries; he attributed the savings from better vehicle design that made building the cars easier. Viecha also said Tesla could further reduce the cost of its vehicles by building more in newer, more efficient, factories in Berlin, Austin and Shanghai. Viecha believes another revolution in automotive manufacturing is possible - following Ford’s Model T assembly line and Toyota’s cheaper “lean production” techniques. \"EV architecture is so different from internal combustion engine, it allows for a third revolution in automotive manufacturing,\" Viecha said. Tesla CEO Elon Musk had promised to build a cheaper Tesla for the masses, one that costs around $25,000. The Model 3 was supposed to be in the $35,000 MSRP range; the cheapest Model 3, however, now costs around $47,000 per Tesla\\'s website. Viecha also, at the conference, addressed the possibility of producing a cheaper EV, claiming the company wants an entry-level car to broaden out its portfolio. Why? The cheaper EV is necessary for Tesla to be a high-volume automaker, Viecha said. (And would also be important to have in place before Tesla embarks on its robotaxi service.) As for new models, Viecha'],\n",
       " 'BTC': ['Bitcoin (BTC) and ether (ETH) fell below recent support levels in the past 24 hours in a move that caused over $250 million in liquidations tracking the two assets, according to data. The crypto markets followed a drop in U.S. equities after higher-than-expected inflation readings for August. Futures tracking bitcoin lost upwards of $130 million, edging above ether futures with $125 million. Ethereum Classic (ETC) futures saw over $10 million in losses – an unusual figure for the asset – amid recent trading interest in the tokens. Bitcoin fell some 9% in the past 24 hours, the most among major cryptocurrencies, while ether dropped 6%, CoinDesk data shows. Ether dropped to as low as $1,560 during late U.S. hours on Tuesday, before recovering to as much as $1,622 during Asian morning hours on Wednesday. The sudden dip on Tuesday night was prompted by traders reacting to poor CPI readings. Elsewhere, XRP dropped 8%, solana’s SOL fell 7% and cardano’s ADA plunged 7.5%. Outside of majors, cosmos’s ATOM fell 11%, ApeCoin’s APE dropped 12% and luna classic (LUNC) dropped 14%, continuing a slide from earlier this week. Data suggests part of the price volatility on ether futures came as funding rates surged to yearly highs of nearly 0.15%, as pointed out by analytics firm Coinalyze on Twitter. Funding rates are periodic payments made by traders based on the difference between prices in the futures and spot markets. Depending on their open positions, traders will either pay or receive funding. The payments ensure there are always participants on both sides of the trade. Participants utilize sophisticated strategies to collect funding rates while hedging losses due to token movements – which creates market dynamics that contribute to price volatility. Meanwhile, some markets analysts told CoinDesk that bitcoin was losing its appeal as a potential “inflation hedge” among investors. “In countries where currency depreciation has been greatest, such as Japan, where the dollar to the yen has gained more than 20% since the beginning of the year, bitcoin has lost 35% of its value,” shared currency trader Daniel Kostecki of investment company Conotoxia said',\n",
       "  'The question of whether the U.S. Securities and Exchange Commission (SEC) should be forced to permit spot-based bitcoin exchange-traded-funds (ETF) is now inching through the courts, but industry lobbyists are making another public push to declare the regulator is wrong in opposing the product. The Chamber of Digital Commerce, a Washington, D.C.-based advocacy group, commissioned a report set for release Monday that will accuse the SEC of harming U.S. investors by depriving them of a type of trading vehicle already available in other countries. “It has determined that the American public cannot yet handle the responsibility of familiar, cost-effective, liquid, transparent and regulated access to the bitcoin markets,” according to the report. “The SEC continues to force U.S. investors who wish to invest in this transformative asset class into unregulated or foreign alternatives.” A fund allowing investors to easily trade bitcoins has long been seen as a major step toward accessibility for an industry whose assets are still widely seen as overly esoteric and volatile for the general public. Such ETFs would plug the tokens into the same kind of packaged funds that have long allowed investors to dabble in highly tailored industry sectors, various flavors of bonds or wide stock indexes without locking down their money or incurring management fees. Though the industry won approval for bitcoin (BTC) futures ETFs, 16 separate applicants have been denied in setting up a spot-market version – meaning funds that actually hold bitcoins. The agency has consistently cited the same concern: potential market manipulation. The agency says it can approve an application when the product has “a comprehensive surveillance-sharing agreement with a regulated market of significant size.” The Digital Chamber’s report says the SEC’s position is inconsistent with its past practices and has never budged even as the industry sought to answer agency objections. Earlier this year, the SEC did approve a futures ETF from Teucrium that was filed under the same law that the spot ETF applications relied on, which has further sharpened frustrations for those seeking the spot funds. But SEC Chair Gary Gensler has argued that he’s fine with the',\n",
       "  'Approximately 25,000 Miners (c. 2.5 EH/s) Are Energized in August as Bitcoin Production Improves to 184 BTC LAS VEGAS, Sept. 06, 2022 (GLOBE NEWSWIRE) -- Marathon Digital Holdings, Inc. (NASDAQ:MARA) (\"Marathon\" or \"Company\"), a leader in supporting and securing the Bitcoin ecosystem, today published unaudited bitcoin (“BTC”) production and miner installation updates for August 2022. Management Commentary“In August, we continued to install and energize miners with our hosting providers, increasing our hash rate and steadily improving our bitcoin production,” said Fred Thiel, Marathon’s chairman and CEO. “During the month, approximately 25,000 of our previously installed miners were successfully energized, increasing our hash rate back to approximately 3.2 exahashes per second with our operating mining fleet consisting of approximately 34,000 miners as of August 31. As a result, we produced 184 BTC in August. \"Our hosting providers have continued to install miners at multiple locations. Based on their latest reports, we expect to have approximately 65,000 additional miners, or approximately 6.9 exahashes per second of capacity, brought online at multiple facilities over the next 90 days. With installations and construction of new facilities progressing, these operational advances provide us with confidence that we are on pace to reach our primary target of approximately 23 exahashes per second of capacity near the middle of 2023, at which point, Marathon’s operations are expected to be not only among the largest, but among the most energy efficient on a per terahash basis.” August 2022 and Recent Highlights Operating mining fleet consists of approximately 34,000 active miners, producing approximately 3.2 EH/s, after approximately 25,000 miners (c. 2.5 EH/s) are successfully energized in August Approximately 65,000 additional miners (c. 6.9 EH/s) are expected to be energized over the next 90 days Produced 184 bitcoin in August 2022; year-to-date through August 31, 2022, produced 2,222 bitcoin, a 26% increase over the same time period in the prior year Benefitted from a downward market price adjustment for the S19 XPs set to ship in September; benefits from price adjustments expected to continue as additional XPs are shipped in the October – December timeframe Total bitcoin holdings increased to',\n",
       "  '(Bloomberg) -- Bitcoin rallied the most since July, breaking out of the narrowest trading range in about two years, as a drop in the dollar renewed demand for battered risk assets worldwide. Most Read from Bloomberg Russia Confirms Flight of Troops From Ukraine’s Kharkiv Area Charles Becomes King as the Face of a Nation Changes Ukraine Army’s Breakthrough in North Threatens Russian Grip Credit Card Firms to Start Implementing Code for Gun Stores Ukraine Latest: Zelenskiy Warns of Winter as Russians Pull Back The largest cryptocurrency by market value advanced as much as 10.1% to $21,341 as of 12:05 p.m. in New York. The increase was the most since July 19. Bitcoin is outperforming most of the other top tokens such as Ether and Cardano. Bitcoin and Ether are still both down about 50% this year. “It’s too early to predict that we are approaching another bull run, but if Bitcoin regains a higher support level between $22,000-$25,000 then it may boost investor confidence and ease off the selling pressure across crypto assets,” said Tarusha Mittal, co-founder of crypto staking platform UniFarm. “Given the fact that central banks around the world remain cautious due to the high inflation numbers, the current surge in the crypto market might be short-lived,” she adds. The Bloomberg Dollar Spot Index tumbled 0.9% on Friday after surging to the highest on record this week. Every Group-of-10 currency strengthened against the greenback, with the risk-sensitive Australian dollar and Norwegian krone leading gains. Bitcoin has been stuck in the tightest trading range in almost two years in September, in part reflecting uncertainty about how far central banks will go in raising interest rates in the face of a slowing global economy. Amid the lack of direction, some analysts have pointed to activity in futures markets as suggesting Bitcoin may be poised to break out. Read more: Bitcoin Is Seen Poised to Escape From Tightest Range in 2 Years Riyad Carey, an analyst at crypto researcher Kaiko, highlighted a jump in open interest in Bitcoin futures on some of the biggest exchanges. “It appears that there was a',\n",
       "  'Business software firm MicroStrategy (MSTR) has filed with the Securities and Exchange Commission for a stock offering to raise up to $500 million and said it intends to use the proceeds at least in part to buy additional bitcoin. “We intend to use the net proceeds from this offering for general corporate purposes, including the acquisition of bitcoin,” the company wrote in its prospectus. Under its founder and former CEO Michael Saylor, MicroStrategy has acquired billions of dollars worth of bitcoin in recent years, with its stock becoming a proxy of sorts for the cryptocurrency. In the past, MicroStrategy has used both debt and equity raises to purchase additional bitcoin. Shares of MicroStrategy rose almost 12% on Friday in tandem with bitcoin’s almost 10% rise over the past 24 hours. But shares were down about 1% in after-hours trading. Saylor and MicroStrategy were recently sued by the District of Columbia for allegedly evading taxes on Saylor’s earnings in the district. Related Quotes Nio (NYSE: NIO) reported increasing losses in its second-quarter earnings report this week, but investors are shrugging that off, sending shares soaring Friday morning.  Although its profit margins have been on a downward trend, new models being launched could turn that around in the coming years.  Consumer prices in China increased at a slower pace than many expected in August, and producer inflation sank to the lowest level since February 2021, reports Reuters. Peloton Interactive (NASDAQ: PTON) shares beat the market on Friday as the stock gained 11% by 1 p.m. ET compared to a 1.2% increase in the S&P 500.  Shares have been reeling in recent months as Peloton struggled to boost sales of its exercise platforms or membership subscriptions to its services. Berkshire Hathaway is on pace to collect $6.07 billion in dividend income over the next 12 months. Just five holdings will account for 71% of total payouts. All week long, trading in Nvidia (NASDAQ: NVDA) stock has been strong.  After opening lower following the long holiday weekend, shares of the semiconductors-for-gaming leader have notched three straight days of stock price',\n",
       "  \"Ford (F): Shares fell in extended trading after the company warned of larger costs due to inflation and supply chain challenges. Ford now sees inflation related supply costs to be about $1 billion higher during the quarter compared to its previous estimate and sees supply shortages affecting about 40,000 to 45,000 vehicles, shifting some revenue to the fourth quarter. Ford sees 3Q adjusted EBIT of $1.4 billion to $1.7 billion but reaffirmed its adjusted full-year EBIT guidance. Bitcoin (BTC-USD): Bitcoin slid below $19,000 its lowest level in three months as risky assets dropped ahead of the Federal Reserve’s rate decision on Wednesday. Bitcoin fell to an intraday low of $18,420.94 on Monday while Ethereum (ETH-USD) declined to $1,289.27. Cognex (CGNX): The manufacturer raised its revenue guidance for the third quarter driven by its ability to “fulfill customer demand faster than expected.” Cognex now sees revenue between $195 million and $205 million, up from a prior range of $180 million to $190 million. Click here for the latest trending stock tickers of the Yahoo Finance platform Click here for the latest stock market news and in-depth analysis, including events that move stocks Read the latest financial and business news from Yahoo Finance Download the Yahoo Finance app for Apple or Android Follow Yahoo Finance on Twitter, Facebook, Instagram, Flipboard, LinkedIn, and YouTube Related Quotes Ford (F) expects Q3 adjusted EBIT of $1.4-$1.7 billion, implying a fall from the $3.7 billion recorded in Q2. Ford said Monday that supplier costs will be $1 billion higher in the third quarter than expected due to rising inflation and persistent supply chain problems.  Ford also disclosed that supply shortages have caused a backlog of thousands of assembled, yet incomplete vehicles.  Ford anticipates that between 40,000 and 45,000 unfinished vehicles — most of which are high-margin trucks and SUVs — will remain in the automaker's inventory waiting for needed parts through the end of the third quarter. Here are 4 tickers trending on Yahoo Finance in premarket trading: Chip giant Nvidia Corp on Tuesday unveiled its new computing platform called DRIVE Thor that would\",\n",
       "  'This news release constitutes a “designated news release” for the purposes of the Company’s prospectus supplement dated March 4, 2022 to its short form base shelf prospectus dated February 23, 2022. TORONTO, Sept. 07, 2022 (GLOBE NEWSWIRE) -- Digihost Technology Inc. (“Digihost” or the “Company”) (Nasdaq: DGHI; TSXV: DGHI), an innovative U.S. based Bitcoin (“BTC”) mining company, is pleased to provide unaudited comparative BTC production results for the month ended August 31, 2022, combined with an operations update. All monetary references are expressed in USD unless otherwise indicated. Production Highlights for August 2022 Mined 67.97 BTC, resulting in total holdings of 176.61 BTC at the end of August valued at approximately $3.54 million based on a BTC price of $20,050 as of August 31, 2022. Ethereum (“ETH”) holdings of 1,000.89 ETH at the end of August valued at approximately $1.56 million based on an ETH price of $1,554 as of August 31, 2022. Total digital asset inventory value, consisting of BTC and ETH, of approximately $5.10 million as of August 31, 2022. To avoid equity dilution for its shareholders, management sold a portion of its BTC production during August to fund its energy costs. The Company remains debt free as of August 31, 2022. In continuing its support of the power needs of the local community, the Company reduced its overall energy consumption during the month of August 2022 with its operation running predominantly at off-peak hours. Year-Over-Year Monthly Comparison The Company mined approximately 23.90 more BTC in August 2022, compared to August 2021, representing an increase of approximately 54.2%. Figure 1. Year-over-year Monthly BTC Production \\xa0 \\xa0 \\xa0 \\xa0 \\xa0 Aug-22 Aug-21 \\xa0 MoM Increase \\xa0 Mined BTC \\xa0 67.97 \\xa0 44.07 \\xa0 23.90 \\xa0 Approximate BTC value $20,050 $47,167 ($27,117 ) Production Value $1,362,799 $2,078,650 ($715,851 ) \\xa0 \\xa0 \\xa0 \\xa0 Year-Over-Year YTD Comparison The Company mined approximately 184.36 more BTC on a year-to-date basis as of August 31 2022, as compared to the same period ended August 31 2021, representing an increase of approximately 47.6%. Figure 2. Year-over-year YTD BTC Production \\xa0 \\xa0 \\xa0 \\xa0 \\xa0 YTD']}"
      ]
     },
     "execution_count": 51,
     "metadata": {},
     "output_type": "execute_result"
    }
   ],
   "source": [
    "articles"
   ]
  },
  {
   "cell_type": "code",
   "execution_count": 52,
   "metadata": {},
   "outputs": [],
   "source": [
    "# encode the article that model can work with it ( ecodeed set of input id)\n",
    "# specify [ return_tensor = 'pt' we use pytorch tensor (not python list) ]\n",
    "input_ids = tokenizer.encode(article , return_tensors = 'pt')\n",
    "# put the article is encoded and then model run and get putput [ max_length is summary length , beams_search algo , early_stop means model reach the certain level of accuracy for that sequence]\n",
    "output = model.generate(input_ids , max_length=55 , num_beams=5 , early_stopping=True)\n",
    "# decode the output and get summary , \n",
    "summary = tokenizer.decode(output[0], skip_special_tokens=True)"
   ]
  },
  {
   "cell_type": "code",
   "execution_count": 91,
   "metadata": {},
   "outputs": [
    {
     "data": {
      "text/plain": [
       "{'GME': ['University of California Irvine study looks at no-fee trading. Price execution data needs to be provided at the broker level, says Schwarz',\n",
       "  'Fed releases Beige Book, Nio, Bed Bath & Beyond reports.',\n",
       "  'Habeck says analysis could take about three months. Nationalisation of gas importer Uniper meant to help gas importers',\n",
       "  'Company to release second-quarter results after market close on September 7.',\n",
       "  'Pharmaceutical giant Eli Lilly, Whole Foods are among top picks. S&P 500 could drop to 3,400 by year-end: Morgan Stanley',\n",
       "  'Analysts remain skeptical about long-term growth prospects. Video game retailer posts sales decline, wider loss in second quarter',\n",
       "  'Online community, WallStreetBets, has over 12.5 million members.',\n",
       "  'Retailer set to unveil strategic update August 31. Best Buy cut its full-year profit and sales forecast in July',\n",
       "  'Second quarter net sales were $1.136 billion, compared to $1.183 billion in the prior year. Selling, administrative and selling expenses were $387.5 million for the quarter'],\n",
       " 'TSLA': [\"Semi-automated driving feature is controversial because it isn't self-driving.\",\n",
       "  \"Ahuja was Tesla's first chief financial officer. drone delivery and logistics startup is expanding in the United States\",\n",
       "  \"I borrowed a friend's Tesla to find out for myself. Tesla Model Y has a starting price of $65,990.\",\n",
       "  'EV giant aims to massively scale up production to reach 80,000 units. Tesla’s Model Y has become the most popular vehicle in the country',\n",
       "  'Musk says robots could be used in homes, mowing lawn. Tesla has posted thousands of jobs for robots on Indeed',\n",
       "  'Cost of setting up an electric-car charging station can vary greatly. Asia’s cheapest units cost as low as $238 in survey',\n",
       "  'Head of investor relations says Tesla wants entry-level EV. Says gross margin will be top metric to track in coming years'],\n",
       " 'BTC': ['Over $250 million in liquidations seen in past 24 hours. Ethereum Classic futures saw over $10 million in losses amid recent trading interest',\n",
       "  'Advocates to release report accusing SEC of harming investors. Agency has said it won’t approve spot funds',\n",
       "  'About 65,000 additional miners expected to be brought online over next 90 days. Mining fleet consists of 34,000 active miners',\n",
       "  'Largest cryptocurrency has been stuck in narrowest trading range in almost two years.',\n",
       "  'MicroStrategy plans to use the proceeds to buy more bitcoin. NIO, Peloton Interactive, Nvidia among day’s gainers',\n",
       "  'Bitcoin falls to lowest level in three months; Cognex raises revenue guidance.',\n",
       "  'Production for the month of August was 67.97 BTC, representing an increase of 54.2%.']}"
      ]
     },
     "execution_count": 91,
     "metadata": {},
     "output_type": "execute_result"
    }
   ],
   "source": [
    "# dict\n",
    "\n",
    "\n",
    "def summerize_article(articles):\n",
    "    summerize_list = []\n",
    "    for article in articles:\n",
    "        input_ids = tokenizer.encode(article , return_tensors='pt')\n",
    "        output = model.generate(input_ids , max_length=55 , num_beams=5 , early_stopping=True)\n",
    "        summary = tokenizer.decode(output[0] , skip_special_tokens=True)\n",
    "        summerize_list.append(summary)\n",
    "    return summerize_list\n",
    "\n",
    "summary_dict = {tickers:summerize_article(articles[tickers]) for tickers in monitored_tickers}\n",
    "\n",
    "summary_dict\n",
    "\n"
   ]
  },
  {
   "cell_type": "markdown",
   "metadata": {},
   "source": [
    "### Adding Sentiment analysis "
   ]
  },
  {
   "cell_type": "code",
   "execution_count": 55,
   "metadata": {},
   "outputs": [
    {
     "name": "stderr",
     "output_type": "stream",
     "text": [
      "No model was supplied, defaulted to distilbert-base-uncased-finetuned-sst-2-english and revision af0f99b (https://huggingface.co/distilbert-base-uncased-finetuned-sst-2-english).\n",
      "Using a pipeline without specifying a model name and revision in production is not recommended.\n"
     ]
    }
   ],
   "source": [
    "from transformers import pipeline\n",
    "sentiment = pipeline('sentiment-analysis')"
   ]
  },
  {
   "cell_type": "code",
   "execution_count": 101,
   "metadata": {},
   "outputs": [
    {
     "data": {
      "text/plain": [
       "{'GME': [{'label': 'NEGATIVE', 'score': 0.9971582889556885},\n",
       "  {'label': 'NEGATIVE', 'score': 0.9980431795120239},\n",
       "  {'label': 'NEGATIVE', 'score': 0.9992679953575134},\n",
       "  {'label': 'NEGATIVE', 'score': 0.9642206430435181},\n",
       "  {'label': 'POSITIVE', 'score': 0.9619694352149963},\n",
       "  {'label': 'NEGATIVE', 'score': 0.9995130300521851},\n",
       "  {'label': 'POSITIVE', 'score': 0.9883701801300049},\n",
       "  {'label': 'NEGATIVE', 'score': 0.9988771080970764},\n",
       "  {'label': 'NEGATIVE', 'score': 0.9603785276412964}],\n",
       " 'TSLA': [{'label': 'NEGATIVE', 'score': 0.967137336730957},\n",
       "  {'label': 'POSITIVE', 'score': 0.9976085424423218},\n",
       "  {'label': 'NEGATIVE', 'score': 0.9941326975822449},\n",
       "  {'label': 'POSITIVE', 'score': 0.9991891980171204},\n",
       "  {'label': 'POSITIVE', 'score': 0.7742635011672974},\n",
       "  {'label': 'NEGATIVE', 'score': 0.9980089068412781},\n",
       "  {'label': 'NEGATIVE', 'score': 0.8893751502037048}],\n",
       " 'BTC': [{'label': 'NEGATIVE', 'score': 0.9973541498184204},\n",
       "  {'label': 'NEGATIVE', 'score': 0.9928277134895325},\n",
       "  {'label': 'POSITIVE', 'score': 0.8318333625793457},\n",
       "  {'label': 'NEGATIVE', 'score': 0.998337984085083},\n",
       "  {'label': 'NEGATIVE', 'score': 0.9951144456863403},\n",
       "  {'label': 'NEGATIVE', 'score': 0.9961153268814087},\n",
       "  {'label': 'POSITIVE', 'score': 0.963570773601532}]}"
      ]
     },
     "execution_count": 101,
     "metadata": {},
     "output_type": "execute_result"
    }
   ],
   "source": [
    "scores =  {tickers : sentiment(summary_dict[tickers]) for tickers in monitored_tickers}\n",
    "\n",
    "scores"
   ]
  },
  {
   "cell_type": "markdown",
   "metadata": {},
   "source": [
    "### Exporting results to CSV ( merge[ summary_dict , clean_url , scores ])"
   ]
  },
  {
   "cell_type": "code",
   "execution_count": 139,
   "metadata": {},
   "outputs": [
    {
     "data": {
      "text/html": [
       "<div>\n",
       "<style scoped>\n",
       "    .dataframe tbody tr th:only-of-type {\n",
       "        vertical-align: middle;\n",
       "    }\n",
       "\n",
       "    .dataframe tbody tr th {\n",
       "        vertical-align: top;\n",
       "    }\n",
       "\n",
       "    .dataframe thead th {\n",
       "        text-align: right;\n",
       "    }\n",
       "</style>\n",
       "<table border=\"1\" class=\"dataframe\">\n",
       "  <thead>\n",
       "    <tr style=\"text-align: right;\">\n",
       "      <th></th>\n",
       "      <th>Tickers</th>\n",
       "      <th>Summary</th>\n",
       "      <th>Urls</th>\n",
       "      <th>Sentiemnt_outcome</th>\n",
       "      <th>Scores</th>\n",
       "    </tr>\n",
       "  </thead>\n",
       "  <tbody>\n",
       "    <tr>\n",
       "      <th>0</th>\n",
       "      <td>GME</td>\n",
       "      <td>University of California Irvine study looks at...</td>\n",
       "      <td>https://finance.yahoo.com/news/the-actual-reta...</td>\n",
       "      <td>NEGATIVE</td>\n",
       "      <td>0.997158</td>\n",
       "    </tr>\n",
       "    <tr>\n",
       "      <th>1</th>\n",
       "      <td>GME</td>\n",
       "      <td>Fed releases Beige Book, Nio, Bed Bath &amp; Beyon...</td>\n",
       "      <td>https://finance.yahoo.com/news/beige-book-game...</td>\n",
       "      <td>NEGATIVE</td>\n",
       "      <td>0.998043</td>\n",
       "    </tr>\n",
       "    <tr>\n",
       "      <th>2</th>\n",
       "      <td>GME</td>\n",
       "      <td>Habeck says analysis could take about three mo...</td>\n",
       "      <td>https://finance.yahoo.com/news/german-economy-...</td>\n",
       "      <td>NEGATIVE</td>\n",
       "      <td>0.999268</td>\n",
       "    </tr>\n",
       "    <tr>\n",
       "      <th>3</th>\n",
       "      <td>GME</td>\n",
       "      <td>Company to release second-quarter results afte...</td>\n",
       "      <td>https://finance.yahoo.com/news/edited-transcri...</td>\n",
       "      <td>NEGATIVE</td>\n",
       "      <td>0.964221</td>\n",
       "    </tr>\n",
       "    <tr>\n",
       "      <th>4</th>\n",
       "      <td>GME</td>\n",
       "      <td>Pharmaceutical giant Eli Lilly, Whole Foods ar...</td>\n",
       "      <td>https://finance.yahoo.com/news/morgan-stanley-...</td>\n",
       "      <td>POSITIVE</td>\n",
       "      <td>0.961969</td>\n",
       "    </tr>\n",
       "    <tr>\n",
       "      <th>5</th>\n",
       "      <td>GME</td>\n",
       "      <td>Analysts remain skeptical about long-term grow...</td>\n",
       "      <td>https://finance.yahoo.com/news/gamestop-posts-...</td>\n",
       "      <td>NEGATIVE</td>\n",
       "      <td>0.999513</td>\n",
       "    </tr>\n",
       "    <tr>\n",
       "      <th>6</th>\n",
       "      <td>GME</td>\n",
       "      <td>Online community, WallStreetBets, has over 12....</td>\n",
       "      <td>https://finance.yahoo.com/news/reddit-wallstre...</td>\n",
       "      <td>POSITIVE</td>\n",
       "      <td>0.988370</td>\n",
       "    </tr>\n",
       "    <tr>\n",
       "      <th>7</th>\n",
       "      <td>GME</td>\n",
       "      <td>Retailer set to unveil strategic update August...</td>\n",
       "      <td>https://finance.yahoo.com/news/top-stocks-movi...</td>\n",
       "      <td>NEGATIVE</td>\n",
       "      <td>0.998877</td>\n",
       "    </tr>\n",
       "    <tr>\n",
       "      <th>8</th>\n",
       "      <td>GME</td>\n",
       "      <td>Second quarter net sales were $1.136 billion, ...</td>\n",
       "      <td>https://finance.yahoo.com/news/gamestop-report...</td>\n",
       "      <td>NEGATIVE</td>\n",
       "      <td>0.960379</td>\n",
       "    </tr>\n",
       "    <tr>\n",
       "      <th>9</th>\n",
       "      <td>TSLA</td>\n",
       "      <td>Semi-automated driving feature is controversia...</td>\n",
       "      <td>https://finance.yahoo.com/news/used-teslas-aut...</td>\n",
       "      <td>NEGATIVE</td>\n",
       "      <td>0.967137</td>\n",
       "    </tr>\n",
       "    <tr>\n",
       "      <th>10</th>\n",
       "      <td>TSLA</td>\n",
       "      <td>Ahuja was Tesla's first chief financial office...</td>\n",
       "      <td>https://finance.yahoo.com/news/zipline-lands-d...</td>\n",
       "      <td>POSITIVE</td>\n",
       "      <td>0.997609</td>\n",
       "    </tr>\n",
       "    <tr>\n",
       "      <th>11</th>\n",
       "      <td>TSLA</td>\n",
       "      <td>I borrowed a friend's Tesla to find out for my...</td>\n",
       "      <td>https://finance.yahoo.com/news/drove-tesla-fir...</td>\n",
       "      <td>NEGATIVE</td>\n",
       "      <td>0.994133</td>\n",
       "    </tr>\n",
       "    <tr>\n",
       "      <th>12</th>\n",
       "      <td>TSLA</td>\n",
       "      <td>EV giant aims to massively scale up production...</td>\n",
       "      <td>https://finance.yahoo.com/news/tesla-tsla-hurt...</td>\n",
       "      <td>POSITIVE</td>\n",
       "      <td>0.999189</td>\n",
       "    </tr>\n",
       "    <tr>\n",
       "      <th>13</th>\n",
       "      <td>TSLA</td>\n",
       "      <td>Musk says robots could be used in homes, mowin...</td>\n",
       "      <td>https://finance.yahoo.com/news/elon-musk-faces...</td>\n",
       "      <td>POSITIVE</td>\n",
       "      <td>0.774264</td>\n",
       "    </tr>\n",
       "    <tr>\n",
       "      <th>14</th>\n",
       "      <td>TSLA</td>\n",
       "      <td>Cost of setting up an electric-car charging st...</td>\n",
       "      <td>https://finance.yahoo.com/news/tesla-crushing-...</td>\n",
       "      <td>NEGATIVE</td>\n",
       "      <td>0.998009</td>\n",
       "    </tr>\n",
       "    <tr>\n",
       "      <th>15</th>\n",
       "      <td>TSLA</td>\n",
       "      <td>Head of investor relations says Tesla wants en...</td>\n",
       "      <td>https://finance.yahoo.com/news/why-a-tesla-exe...</td>\n",
       "      <td>NEGATIVE</td>\n",
       "      <td>0.889375</td>\n",
       "    </tr>\n",
       "    <tr>\n",
       "      <th>16</th>\n",
       "      <td>BTC</td>\n",
       "      <td>Over $250 million in liquidations seen in past...</td>\n",
       "      <td>https://finance.yahoo.com/news/steep-drop-bitc...</td>\n",
       "      <td>NEGATIVE</td>\n",
       "      <td>0.997354</td>\n",
       "    </tr>\n",
       "    <tr>\n",
       "      <th>17</th>\n",
       "      <td>BTC</td>\n",
       "      <td>Advocates to release report accusing SEC of ha...</td>\n",
       "      <td>https://finance.yahoo.com/news/bitcoin-etf-lon...</td>\n",
       "      <td>NEGATIVE</td>\n",
       "      <td>0.992828</td>\n",
       "    </tr>\n",
       "    <tr>\n",
       "      <th>18</th>\n",
       "      <td>BTC</td>\n",
       "      <td>About 65,000 additional miners expected to be ...</td>\n",
       "      <td>https://finance.yahoo.com/news/marathon-digita...</td>\n",
       "      <td>POSITIVE</td>\n",
       "      <td>0.831833</td>\n",
       "    </tr>\n",
       "    <tr>\n",
       "      <th>19</th>\n",
       "      <td>BTC</td>\n",
       "      <td>Largest cryptocurrency has been stuck in narro...</td>\n",
       "      <td>https://finance.yahoo.com/news/bitcoin-gains-m...</td>\n",
       "      <td>NEGATIVE</td>\n",
       "      <td>0.998338</td>\n",
       "    </tr>\n",
       "    <tr>\n",
       "      <th>20</th>\n",
       "      <td>BTC</td>\n",
       "      <td>MicroStrategy plans to use the proceeds to buy...</td>\n",
       "      <td>https://finance.yahoo.com/news/microstrategy-f...</td>\n",
       "      <td>NEGATIVE</td>\n",
       "      <td>0.995114</td>\n",
       "    </tr>\n",
       "    <tr>\n",
       "      <th>21</th>\n",
       "      <td>BTC</td>\n",
       "      <td>Bitcoin falls to lowest level in three months;...</td>\n",
       "      <td>https://finance.yahoo.com/news/stocks-on-the-m...</td>\n",
       "      <td>NEGATIVE</td>\n",
       "      <td>0.996115</td>\n",
       "    </tr>\n",
       "    <tr>\n",
       "      <th>22</th>\n",
       "      <td>BTC</td>\n",
       "      <td>Production for the month of August was 67.97 B...</td>\n",
       "      <td>https://finance.yahoo.com/news/digihost-announ...</td>\n",
       "      <td>POSITIVE</td>\n",
       "      <td>0.963571</td>\n",
       "    </tr>\n",
       "  </tbody>\n",
       "</table>\n",
       "</div>"
      ],
      "text/plain": [
       "   Tickers                                            Summary  \\\n",
       "0      GME  University of California Irvine study looks at...   \n",
       "1      GME  Fed releases Beige Book, Nio, Bed Bath & Beyon...   \n",
       "2      GME  Habeck says analysis could take about three mo...   \n",
       "3      GME  Company to release second-quarter results afte...   \n",
       "4      GME  Pharmaceutical giant Eli Lilly, Whole Foods ar...   \n",
       "5      GME  Analysts remain skeptical about long-term grow...   \n",
       "6      GME  Online community, WallStreetBets, has over 12....   \n",
       "7      GME  Retailer set to unveil strategic update August...   \n",
       "8      GME  Second quarter net sales were $1.136 billion, ...   \n",
       "9     TSLA  Semi-automated driving feature is controversia...   \n",
       "10    TSLA  Ahuja was Tesla's first chief financial office...   \n",
       "11    TSLA  I borrowed a friend's Tesla to find out for my...   \n",
       "12    TSLA  EV giant aims to massively scale up production...   \n",
       "13    TSLA  Musk says robots could be used in homes, mowin...   \n",
       "14    TSLA  Cost of setting up an electric-car charging st...   \n",
       "15    TSLA  Head of investor relations says Tesla wants en...   \n",
       "16     BTC  Over $250 million in liquidations seen in past...   \n",
       "17     BTC  Advocates to release report accusing SEC of ha...   \n",
       "18     BTC  About 65,000 additional miners expected to be ...   \n",
       "19     BTC  Largest cryptocurrency has been stuck in narro...   \n",
       "20     BTC  MicroStrategy plans to use the proceeds to buy...   \n",
       "21     BTC  Bitcoin falls to lowest level in three months;...   \n",
       "22     BTC  Production for the month of August was 67.97 B...   \n",
       "\n",
       "                                                 Urls Sentiemnt_outcome  \\\n",
       "0   https://finance.yahoo.com/news/the-actual-reta...          NEGATIVE   \n",
       "1   https://finance.yahoo.com/news/beige-book-game...          NEGATIVE   \n",
       "2   https://finance.yahoo.com/news/german-economy-...          NEGATIVE   \n",
       "3   https://finance.yahoo.com/news/edited-transcri...          NEGATIVE   \n",
       "4   https://finance.yahoo.com/news/morgan-stanley-...          POSITIVE   \n",
       "5   https://finance.yahoo.com/news/gamestop-posts-...          NEGATIVE   \n",
       "6   https://finance.yahoo.com/news/reddit-wallstre...          POSITIVE   \n",
       "7   https://finance.yahoo.com/news/top-stocks-movi...          NEGATIVE   \n",
       "8   https://finance.yahoo.com/news/gamestop-report...          NEGATIVE   \n",
       "9   https://finance.yahoo.com/news/used-teslas-aut...          NEGATIVE   \n",
       "10  https://finance.yahoo.com/news/zipline-lands-d...          POSITIVE   \n",
       "11  https://finance.yahoo.com/news/drove-tesla-fir...          NEGATIVE   \n",
       "12  https://finance.yahoo.com/news/tesla-tsla-hurt...          POSITIVE   \n",
       "13  https://finance.yahoo.com/news/elon-musk-faces...          POSITIVE   \n",
       "14  https://finance.yahoo.com/news/tesla-crushing-...          NEGATIVE   \n",
       "15  https://finance.yahoo.com/news/why-a-tesla-exe...          NEGATIVE   \n",
       "16  https://finance.yahoo.com/news/steep-drop-bitc...          NEGATIVE   \n",
       "17  https://finance.yahoo.com/news/bitcoin-etf-lon...          NEGATIVE   \n",
       "18  https://finance.yahoo.com/news/marathon-digita...          POSITIVE   \n",
       "19  https://finance.yahoo.com/news/bitcoin-gains-m...          NEGATIVE   \n",
       "20  https://finance.yahoo.com/news/microstrategy-f...          NEGATIVE   \n",
       "21  https://finance.yahoo.com/news/stocks-on-the-m...          NEGATIVE   \n",
       "22  https://finance.yahoo.com/news/digihost-announ...          POSITIVE   \n",
       "\n",
       "      Scores  \n",
       "0   0.997158  \n",
       "1   0.998043  \n",
       "2   0.999268  \n",
       "3   0.964221  \n",
       "4   0.961969  \n",
       "5   0.999513  \n",
       "6   0.988370  \n",
       "7   0.998877  \n",
       "8   0.960379  \n",
       "9   0.967137  \n",
       "10  0.997609  \n",
       "11  0.994133  \n",
       "12  0.999189  \n",
       "13  0.774264  \n",
       "14  0.998009  \n",
       "15  0.889375  \n",
       "16  0.997354  \n",
       "17  0.992828  \n",
       "18  0.831833  \n",
       "19  0.998338  \n",
       "20  0.995114  \n",
       "21  0.996115  \n",
       "22  0.963571  "
      ]
     },
     "execution_count": 139,
     "metadata": {},
     "output_type": "execute_result"
    }
   ],
   "source": [
    "# put information togerther \n",
    "import pandas as pd\n",
    "def create_output_array(summary_dict , cleaned_urls  , scores):\n",
    "    # output contain (summary_dict , cleaned_urls  , scores)\n",
    "    output_all = []\n",
    "    for tickers in monitored_tickers:\n",
    "        for index in range(len(summary_dict[tickers])):\n",
    "            row = []\n",
    "            row.append(tickers)\n",
    "            row.append(summary_dict[tickers][index])\n",
    "            row.append(cleaned_urls[tickers][index])\n",
    "            row.append(scores[tickers][index]['label'])\n",
    "            row.append(scores[tickers][index]['score'])\n",
    "            output_all.append(row)\n",
    "            \n",
    "    return output_all\n",
    "    # return output_all\n",
    "data = create_output_array(summary_dict , cleaned_urls , scores)\n",
    "# dataframe\n",
    "df =pd.DataFrame(data , columns=['Tickers' , 'Summary' , 'Urls' , 'Sentiemnt_outcome' , 'Scores'])\n",
    "# df\n",
    "df"
   ]
  },
  {
   "cell_type": "code",
   "execution_count": 140,
   "metadata": {},
   "outputs": [],
   "source": [
    "## Export to CSV\n",
    "df.to_csv('financialnews_sentiment_analysis.csv')"
   ]
  },
  {
   "cell_type": "code",
   "execution_count": null,
   "metadata": {},
   "outputs": [],
   "source": []
  }
 ],
 "metadata": {
  "kernelspec": {
   "display_name": "Python 3.8.13 ('py3.8')",
   "language": "python",
   "name": "python3"
  },
  "language_info": {
   "codemirror_mode": {
    "name": "ipython",
    "version": 3
   },
   "file_extension": ".py",
   "mimetype": "text/x-python",
   "name": "python",
   "nbconvert_exporter": "python",
   "pygments_lexer": "ipython3",
   "version": "3.8.13"
  },
  "orig_nbformat": 4,
  "vscode": {
   "interpreter": {
    "hash": "ed1d78d65679005153ee0d3ce382885747a486d2caf8a347d36994118c1cc825"
   }
  }
 },
 "nbformat": 4,
 "nbformat_minor": 2
}
